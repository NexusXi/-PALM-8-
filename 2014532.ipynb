{
 "cells": [
  {
   "cell_type": "markdown",
   "metadata": {
    "collapsed": false
   },
   "source": [
    "项目主要参考自：[PaddleX超简单之--【常规赛：PALM病理性近视预测】第二名方案](https://aistudio.baidu.com/aistudio/projectdetail/1889324?channelType=0&channel=0)\n",
    "\n",
    "```\n",
    "pip install paddlex -i https://mirror.baidu.com/pypi/simple\n",
    "pip install paddle2onnx -i https://mirror.baidu.com/pypi/simple"
   ]
  },
  {
   "cell_type": "code",
   "execution_count": 1,
   "metadata": {
    "collapsed": false
   },
   "outputs": [],
   "source": [
    "# 划分训练集和测试集\n",
    "import pandas as pd\n",
    "import random\n",
    "\n",
    "train_excel_file = 'dataset/Train/Classification.xlsx'\n",
    "pd_list=pd.read_excel(train_excel_file)\n",
    "\n",
    "pd_list_lenght=len(pd_list)\n",
    "# 乱序\n",
    "pd_list=pd_list.sample(frac=1)\n",
    "offset=int(pd_list_lenght*0.9)\n",
    "trian_list=pd_list[:offset]\n",
    "eval_list=pd_list[offset:]\n",
    "trian_list.to_csv(\"train_list.txt\", index=None, header=None, sep=' ')\n",
    "eval_list.to_csv(\"eval_list.txt\", index=None, header=None, sep=' ')"
   ]
  },
  {
   "cell_type": "code",
   "execution_count": 3,
   "metadata": {
    "collapsed": false
   },
   "outputs": [],
   "source": [
    "# 设置使用0号GPU卡（如无GPU，执行此代码后仍然会使用CPU训练模型）\n",
    "import matplotlib\n",
    "matplotlib.use('Agg') \n",
    "import os\n",
    "os.environ['CUDA_VISIBLE_DEVICES'] = '0'\n",
    "import paddlex as pdx"
   ]
  },
  {
   "cell_type": "markdown",
   "metadata": {
    "collapsed": false
   },
   "source": [
    "观察训练集，都是圆形的图片且亮点很多在左上或者左下。所以类似于sklearn.GridSearchCV的方法进行网格调参找水平翻转，垂直翻转，旋转角度的最优组合\n",
    "\n",
    "```\n",
    "{'transforms.RandomHorizontalFlip\":[0.4,0.5,0.6]}\n",
    "{'transforms.RandomVerticalFlip':[0.3,0.5,0.7]}\n",
    "{'transforms.RandomRotate':[rotate_range=30,45,60,75]}"
   ]
  },
  {
   "cell_type": "code",
   "execution_count": 5,
   "metadata": {
    "collapsed": false
   },
   "outputs": [],
   "source": [
    "from paddlex.cls import transforms\n",
    "train_transforms = transforms.Compose([\n",
    "\n",
    "    transforms.RandomCrop(crop_size=224),\n",
    "    transforms.RandomHorizontalFlip(0.6),\n",
    "    transforms.RandomRotate(rotate_range=75),\n",
    "\n",
    "    transforms.RandomVerticalFlip(),\n",
    "    transforms.Normalize()\n",
    "])\n",
    "eval_transforms = transforms.Compose([\n",
    "    transforms.ResizeByShort(short_size=256),\n",
    "    transforms.CenterCrop(crop_size=224),\n",
    "    transforms.Normalize()\n",
    "])"
   ]
  },
  {
   "cell_type": "code",
   "execution_count": 6,
   "metadata": {
    "collapsed": false
   },
   "outputs": [
    {
     "name": "stdout",
     "output_type": "stream",
     "text": [
      "2021-06-03 21:51:46 [INFO]\tStarting to read file list from dataset...\n",
      "2021-06-03 21:51:46 [INFO]\t720 samples in file train_list.txt\n",
      "2021-06-03 21:51:46 [INFO]\tStarting to read file list from dataset...\n",
      "2021-06-03 21:51:46 [INFO]\t80 samples in file eval_list.txt\n"
     ]
    }
   ],
   "source": [
    "train_dataset = pdx.datasets.ImageNet(\r\n",
    "    data_dir='dataset/Train/fundus_image',\r\n",
    "    file_list='train_list.txt',\r\n",
    "    label_list='labels.txt',\r\n",
    "    transforms=train_transforms,\r\n",
    "    shuffle=True)\r\n",
    "eval_dataset = pdx.datasets.ImageNet(\r\n",
    "    data_dir='dataset/Train/fundus_image',\r\n",
    "    file_list='eval_list.txt',\r\n",
    "    label_list='labels.txt',\r\n",
    "    transforms=eval_transforms)"
   ]
  },
  {
   "cell_type": "code",
   "execution_count": 6,
   "metadata": {
    "collapsed": false
   },
   "outputs": [
    {
     "name": "stderr",
     "output_type": "stream",
     "text": [
      "/opt/conda/envs/python35-paddle120-env/lib/python3.7/site-packages/paddle/fluid/framework.py:689: DeprecationWarning: `np.bool` is a deprecated alias for the builtin `bool`. To silence this warning, use `bool` by itself. Doing this will not modify any behavior and is safe. If you specifically wanted the numpy scalar type, use `np.bool_` here.\n",
      "Deprecated in NumPy 1.20; for more details and guidance: https://numpy.org/devdocs/release/1.20.0-notes.html#deprecations\n",
      "  elif dtype == np.bool:\n"
     ]
    },
    {
     "name": "stdout",
     "output_type": "stream",
     "text": [
      "2021-05-31 22:06:53 [INFO]\tDownloading ResNet50_vd_ssld_pretrained.tar from https://paddle-imagenet-models-name.bj.bcebos.com/ResNet50_vd_ssld_pretrained.tar\n"
     ]
    },
    {
     "name": "stderr",
     "output_type": "stream",
     "text": [
      "  0%|          | 0/92837 [00:00<?, ?KB/s]100%|██████████| 92837/92837 [00:01<00:00, 51050.87KB/s]\n"
     ]
    },
    {
     "name": "stdout",
     "output_type": "stream",
     "text": [
      "2021-05-31 22:06:55 [INFO]\tDecompressing output/ResNet50_vd_ssld/pretrain/ResNet50_vd_ssld_pretrained.tar...\n",
      "2021-05-31 22:07:00 [INFO]\tLoad pretrain weights from output/ResNet50_vd_ssld/pretrain/ResNet50_vd_ssld_pretrained.\n",
      "2021-05-31 22:07:00 [WARNING]\t[SKIP] Shape of pretrained weight output/ResNet50_vd_ssld/pretrain/ResNet50_vd_ssld_pretrained/fc_0.w_0 doesn't match.(Pretrained: (2048, 1000), Actual: (2048, 2))\n",
      "2021-05-31 22:07:00 [WARNING]\t[SKIP] Shape of pretrained weight output/ResNet50_vd_ssld/pretrain/ResNet50_vd_ssld_pretrained/fc_0.b_0 doesn't match.(Pretrained: (1000,), Actual: (2,))\n",
      "2021-05-31 22:07:01 [INFO]\tThere are 275 varaibles in output/ResNet50_vd_ssld/pretrain/ResNet50_vd_ssld_pretrained are loaded.\n",
      "2021-05-31 22:07:25 [INFO]\t[TRAIN] Epoch=1/50, Step=2/5, loss=0.63812, acc1=0.71875, acc2=1.0, lr=0.025, time_each_step=12.31s, eta=0:52:56\n",
      "2021-05-31 22:07:45 [INFO]\t[TRAIN] Epoch=1/50, Step=4/5, loss=0.4749, acc1=0.804688, acc2=1.0, lr=0.025, time_each_step=11.08s, eta=0:47:16\n",
      "2021-05-31 22:08:02 [INFO]\t[TRAIN] Epoch 1 finished, loss=0.535869, acc1=0.704687, acc2=1.0, lr=0.025 .\n",
      "2021-05-31 22:08:17 [INFO]\t[TRAIN] Epoch=2/50, Step=1/5, loss=0.168353, acc1=0.945312, acc2=1.0, lr=0.025, time_each_step=11.57s, eta=0:51:50\n",
      "2021-05-31 22:08:37 [INFO]\t[TRAIN] Epoch=2/50, Step=3/5, loss=0.152413, acc1=0.929688, acc2=1.0, lr=0.025, time_each_step=11.2s, eta=0:51:22\n",
      "2021-05-31 22:08:56 [INFO]\t[TRAIN] Epoch=2/50, Step=5/5, loss=0.206074, acc1=0.921875, acc2=1.0, lr=0.025, time_each_step=10.85s, eta=0:50:56\n",
      "2021-05-31 22:09:00 [INFO]\t[TRAIN] Epoch 2 finished, loss=0.151928, acc1=0.94375, acc2=1.0, lr=0.025 .\n",
      "2021-05-31 22:09:20 [INFO]\t[TRAIN] Epoch=3/50, Step=2/5, loss=0.119239, acc1=0.96875, acc2=1.0, lr=0.025, time_each_step=10.71s, eta=0:47:50\n",
      "2021-05-31 22:09:36 [INFO]\t[TRAIN] Epoch=3/50, Step=4/5, loss=0.146863, acc1=0.945312, acc2=1.0, lr=0.025, time_each_step=10.3s, eta=0:47:25\n",
      "2021-05-31 22:09:47 [INFO]\t[TRAIN] Epoch 3 finished, loss=0.141066, acc1=0.953125, acc2=1.0, lr=0.025 .\n",
      "2021-05-31 22:10:02 [INFO]\t[TRAIN] Epoch=4/50, Step=1/5, loss=0.189935, acc1=0.953125, acc2=1.0, lr=0.025, time_each_step=10.42s, eta=0:38:5\n",
      "2021-05-31 22:10:22 [INFO]\t[TRAIN] Epoch=4/50, Step=3/5, loss=0.126358, acc1=0.945312, acc2=1.0, lr=0.025, time_each_step=10.38s, eta=0:37:44\n",
      "2021-05-31 22:10:41 [INFO]\t[TRAIN] Epoch=4/50, Step=5/5, loss=0.151081, acc1=0.976562, acc2=1.0, lr=0.025, time_each_step=10.27s, eta=0:37:22\n",
      "2021-05-31 22:10:46 [INFO]\t[TRAIN] Epoch 4 finished, loss=0.139781, acc1=0.959375, acc2=1.0, lr=0.025 .\n",
      "2021-05-31 22:11:11 [INFO]\t[TRAIN] Epoch=5/50, Step=2/5, loss=0.069301, acc1=0.976562, acc2=1.0, lr=0.025, time_each_step=10.3s, eta=0:46:37\n",
      "2021-05-31 22:11:29 [INFO]\t[TRAIN] Epoch=5/50, Step=4/5, loss=0.102103, acc1=0.976562, acc2=1.0, lr=0.025, time_each_step=10.23s, eta=0:46:15\n",
      "2021-05-31 22:11:44 [INFO]\t[TRAIN] Epoch 5 finished, loss=0.090906, acc1=0.965625, acc2=1.0, lr=0.025 .\n",
      "2021-05-31 22:11:44 [INFO]\tStart to evaluating(total_samples=80, total_steps=1)...\n"
     ]
    },
    {
     "name": "stderr",
     "output_type": "stream",
     "text": [
      "  0%|          | 0/1 [00:00<?, ?it/s]share_vars_from is set, scope is ignored.\n",
      "100%|██████████| 1/1 [00:10<00:00, 10.67s/it]\n"
     ]
    },
    {
     "name": "stdout",
     "output_type": "stream",
     "text": [
      "2021-05-31 22:11:55 [INFO]\t[EVAL] Finished, Epoch=5, acc1=0.775, acc2=1.0 .\n",
      "2021-05-31 22:11:57 [INFO]\tModel saved in output/ResNet50_vd_ssld/best_model.\n",
      "2021-05-31 22:11:59 [INFO]\tModel saved in output/ResNet50_vd_ssld/epoch_5.\n",
      "2021-05-31 22:11:59 [INFO]\tCurrent evaluated best model in eval_dataset is epoch_5, acc1=0.775\n",
      "2021-05-31 22:12:14 [INFO]\t[TRAIN] Epoch=6/50, Step=1/5, loss=0.160113, acc1=0.9375, acc2=1.0, lr=0.025, time_each_step=10.19s, eta=0:45:26\n",
      "2021-05-31 22:12:33 [INFO]\t[TRAIN] Epoch=6/50, Step=3/5, loss=0.053289, acc1=0.984375, acc2=1.0, lr=0.025, time_each_step=10.11s, eta=0:45:5\n",
      "2021-05-31 22:12:51 [INFO]\t[TRAIN] Epoch=6/50, Step=5/5, loss=0.086, acc1=0.976562, acc2=1.0, lr=0.025, time_each_step=10.06s, eta=0:44:45\n",
      "2021-05-31 22:12:55 [INFO]\t[TRAIN] Epoch 6 finished, loss=0.120412, acc1=0.95625, acc2=1.0, lr=0.025 .\n",
      "2021-05-31 22:13:19 [INFO]\t[TRAIN] Epoch=7/50, Step=2/5, loss=0.099482, acc1=0.945312, acc2=1.0, lr=0.025, time_each_step=10.27s, eta=0:42:43\n",
      "2021-05-31 22:13:39 [INFO]\t[TRAIN] Epoch=7/50, Step=4/5, loss=0.172834, acc1=0.921875, acc2=1.0, lr=0.025, time_each_step=10.47s, eta=0:42:22\n",
      "2021-05-31 22:13:53 [INFO]\t[TRAIN] Epoch 7 finished, loss=0.120483, acc1=0.951563, acc2=1.0, lr=0.025 .\n",
      "2021-05-31 22:14:08 [INFO]\t[TRAIN] Epoch=8/50, Step=1/5, loss=0.062535, acc1=0.96875, acc2=1.0, lr=0.025, time_each_step=10.55s, eta=0:43:54\n",
      "2021-05-31 22:14:27 [INFO]\t[TRAIN] Epoch=8/50, Step=3/5, loss=0.125396, acc1=0.960938, acc2=1.0, lr=0.025, time_each_step=10.5s, eta=0:43:33\n",
      "2021-05-31 22:14:45 [INFO]\t[TRAIN] Epoch=8/50, Step=5/5, loss=0.140761, acc1=0.960938, acc2=1.0, lr=0.025, time_each_step=10.46s, eta=0:43:12\n",
      "2021-05-31 22:14:50 [INFO]\t[TRAIN] Epoch 8 finished, loss=0.123637, acc1=0.953125, acc2=1.0, lr=0.025 .\n",
      "2021-05-31 22:15:13 [INFO]\t[TRAIN] Epoch=9/50, Step=2/5, loss=0.10458, acc1=0.96875, acc2=1.0, lr=0.025, time_each_step=10.38s, eta=0:41:12\n",
      "2021-05-31 22:15:31 [INFO]\t[TRAIN] Epoch=9/50, Step=4/5, loss=0.13595, acc1=0.945312, acc2=1.0, lr=0.025, time_each_step=10.35s, eta=0:40:52\n",
      "2021-05-31 22:15:45 [INFO]\t[TRAIN] Epoch 9 finished, loss=0.119012, acc1=0.954687, acc2=1.0, lr=0.025 .\n",
      "2021-05-31 22:16:00 [INFO]\t[TRAIN] Epoch=10/50, Step=1/5, loss=0.085951, acc1=0.953125, acc2=1.0, lr=0.025, time_each_step=10.36s, eta=0:39:48\n",
      "2021-05-31 22:16:19 [INFO]\t[TRAIN] Epoch=10/50, Step=3/5, loss=0.084394, acc1=0.984375, acc2=1.0, lr=0.025, time_each_step=10.4s, eta=0:39:27\n",
      "2021-05-31 22:16:37 [INFO]\t[TRAIN] Epoch=10/50, Step=5/5, loss=0.070728, acc1=0.96875, acc2=1.0, lr=0.025, time_each_step=10.38s, eta=0:39:7\n",
      "2021-05-31 22:16:42 [INFO]\t[TRAIN] Epoch 10 finished, loss=0.077668, acc1=0.973437, acc2=1.0, lr=0.025 .\n",
      "2021-05-31 22:16:42 [INFO]\tStart to evaluating(total_samples=80, total_steps=1)...\n"
     ]
    },
    {
     "name": "stderr",
     "output_type": "stream",
     "text": [
      "100%|██████████| 1/1 [00:09<00:00,  9.86s/it]\n"
     ]
    },
    {
     "name": "stdout",
     "output_type": "stream",
     "text": [
      "2021-05-31 22:16:52 [INFO]\t[EVAL] Finished, Epoch=10, acc1=0.95, acc2=1.0 .\n",
      "2021-05-31 22:16:55 [INFO]\tModel saved in output/ResNet50_vd_ssld/best_model.\n",
      "2021-05-31 22:16:58 [INFO]\tModel saved in output/ResNet50_vd_ssld/epoch_10.\n",
      "2021-05-31 22:16:58 [INFO]\tCurrent evaluated best model in eval_dataset is epoch_10, acc1=0.95\n",
      "2021-05-31 22:17:24 [INFO]\t[TRAIN] Epoch=11/50, Step=2/5, loss=0.108925, acc1=0.945312, acc2=1.0, lr=0.0025, time_each_step=10.47s, eta=0:39:50\n",
      "2021-05-31 22:17:41 [INFO]\t[TRAIN] Epoch=11/50, Step=4/5, loss=0.139154, acc1=0.953125, acc2=1.0, lr=0.0025, time_each_step=10.35s, eta=0:39:29\n",
      "2021-05-31 22:17:55 [INFO]\t[TRAIN] Epoch 11 finished, loss=0.115437, acc1=0.954687, acc2=1.0, lr=0.0025 .\n",
      "2021-05-31 22:18:10 [INFO]\t[TRAIN] Epoch=12/50, Step=1/5, loss=0.065954, acc1=0.96875, acc2=1.0, lr=0.0025, time_each_step=10.34s, eta=0:39:19\n",
      "2021-05-31 22:18:29 [INFO]\t[TRAIN] Epoch=12/50, Step=3/5, loss=0.054494, acc1=0.96875, acc2=1.0, lr=0.0025, time_each_step=10.32s, eta=0:38:58\n",
      "2021-05-31 22:18:47 [INFO]\t[TRAIN] Epoch=12/50, Step=5/5, loss=0.056252, acc1=0.976562, acc2=1.0, lr=0.0025, time_each_step=10.35s, eta=0:38:38\n",
      "2021-05-31 22:18:52 [INFO]\t[TRAIN] Epoch 12 finished, loss=0.063551, acc1=0.96875, acc2=1.0, lr=0.0025 .\n",
      "2021-05-31 22:19:15 [INFO]\t[TRAIN] Epoch=13/50, Step=2/5, loss=0.050021, acc1=0.984375, acc2=1.0, lr=0.0025, time_each_step=10.3s, eta=0:37:36\n",
      "2021-05-31 22:19:33 [INFO]\t[TRAIN] Epoch=13/50, Step=4/5, loss=0.053386, acc1=0.992188, acc2=1.0, lr=0.0025, time_each_step=10.33s, eta=0:37:15\n",
      "2021-05-31 22:19:48 [INFO]\t[TRAIN] Epoch 13 finished, loss=0.05168, acc1=0.98125, acc2=1.0, lr=0.0025 .\n",
      "2021-05-31 22:20:03 [INFO]\t[TRAIN] Epoch=14/50, Step=1/5, loss=0.040122, acc1=0.976562, acc2=1.0, lr=0.0025, time_each_step=10.35s, eta=0:36:7\n",
      "2021-05-31 22:20:20 [INFO]\t[TRAIN] Epoch=14/50, Step=3/5, loss=0.113109, acc1=0.960938, acc2=1.0, lr=0.0025, time_each_step=10.24s, eta=0:35:46\n",
      "2021-05-31 22:20:40 [INFO]\t[TRAIN] Epoch=14/50, Step=5/5, loss=0.029822, acc1=1.0, acc2=1.0, lr=0.0025, time_each_step=10.35s, eta=0:35:25\n",
      "2021-05-31 22:20:45 [INFO]\t[TRAIN] Epoch 14 finished, loss=0.061711, acc1=0.978125, acc2=1.0, lr=0.0025 .\n",
      "2021-05-31 22:21:08 [INFO]\t[TRAIN] Epoch=15/50, Step=2/5, loss=0.033426, acc1=0.992188, acc2=1.0, lr=0.0025, time_each_step=10.21s, eta=0:35:46\n",
      "2021-05-31 22:21:26 [INFO]\t[TRAIN] Epoch=15/50, Step=4/5, loss=0.059713, acc1=0.976562, acc2=1.0, lr=0.0025, time_each_step=10.26s, eta=0:35:25\n",
      "2021-05-31 22:21:40 [INFO]\t[TRAIN] Epoch 15 finished, loss=0.044244, acc1=0.985937, acc2=1.0, lr=0.0025 .\n",
      "2021-05-31 22:21:40 [INFO]\tStart to evaluating(total_samples=80, total_steps=1)...\n"
     ]
    },
    {
     "name": "stderr",
     "output_type": "stream",
     "text": [
      "100%|██████████| 1/1 [00:10<00:00, 10.45s/it]\n"
     ]
    },
    {
     "name": "stdout",
     "output_type": "stream",
     "text": [
      "2021-05-31 22:21:51 [INFO]\t[EVAL] Finished, Epoch=15, acc1=1.0, acc2=1.0 .\n",
      "2021-05-31 22:21:54 [INFO]\tModel saved in output/ResNet50_vd_ssld/best_model.\n",
      "2021-05-31 22:21:57 [INFO]\tModel saved in output/ResNet50_vd_ssld/epoch_15.\n",
      "2021-05-31 22:21:57 [INFO]\tCurrent evaluated best model in eval_dataset is epoch_15, acc1=1.0\n",
      "2021-05-31 22:22:10 [INFO]\t[TRAIN] Epoch=16/50, Step=1/5, loss=0.045099, acc1=0.984375, acc2=1.0, lr=0.0025, time_each_step=10.22s, eta=0:34:6\n",
      "2021-05-31 22:22:29 [INFO]\t[TRAIN] Epoch=16/50, Step=3/5, loss=0.08439, acc1=0.953125, acc2=1.0, lr=0.0025, time_each_step=10.21s, eta=0:33:46\n",
      "2021-05-31 22:22:46 [INFO]\t[TRAIN] Epoch=16/50, Step=5/5, loss=0.0459, acc1=0.984375, acc2=1.0, lr=0.0025, time_each_step=10.18s, eta=0:33:25\n",
      "2021-05-31 22:22:51 [INFO]\t[TRAIN] Epoch 16 finished, loss=0.050009, acc1=0.98125, acc2=1.0, lr=0.0025 .\n",
      "2021-05-31 22:23:14 [INFO]\t[TRAIN] Epoch=17/50, Step=2/5, loss=0.043976, acc1=0.976562, acc2=1.0, lr=0.0025, time_each_step=10.18s, eta=0:32:23\n",
      "2021-05-31 22:23:32 [INFO]\t[TRAIN] Epoch=17/50, Step=4/5, loss=0.041591, acc1=0.992188, acc2=1.0, lr=0.0025, time_each_step=10.17s, eta=0:32:2\n",
      "2021-05-31 22:23:46 [INFO]\t[TRAIN] Epoch 17 finished, loss=0.040448, acc1=0.984375, acc2=1.0, lr=0.0025 .\n",
      "2021-05-31 22:24:00 [INFO]\t[TRAIN] Epoch=18/50, Step=1/5, loss=0.052924, acc1=0.96875, acc2=1.0, lr=0.0025, time_each_step=10.13s, eta=0:31:55\n",
      "2021-05-31 22:24:18 [INFO]\t[TRAIN] Epoch=18/50, Step=3/5, loss=0.020981, acc1=0.984375, acc2=1.0, lr=0.0025, time_each_step=10.15s, eta=0:31:35\n",
      "2021-05-31 22:24:37 [INFO]\t[TRAIN] Epoch=18/50, Step=5/5, loss=0.045294, acc1=0.976562, acc2=1.0, lr=0.0025, time_each_step=10.12s, eta=0:31:15\n",
      "2021-05-31 22:24:42 [INFO]\t[TRAIN] Epoch 18 finished, loss=0.043736, acc1=0.979688, acc2=1.0, lr=0.0025 .\n",
      "2021-05-31 22:25:06 [INFO]\t[TRAIN] Epoch=19/50, Step=2/5, loss=0.018089, acc1=1.0, acc2=1.0, lr=0.0025, time_each_step=10.14s, eta=0:31:21\n",
      "2021-05-31 22:25:25 [INFO]\t[TRAIN] Epoch=19/50, Step=4/5, loss=0.055056, acc1=0.96875, acc2=1.0, lr=0.0025, time_each_step=10.19s, eta=0:31:0\n",
      "2021-05-31 22:25:38 [INFO]\t[TRAIN] Epoch 19 finished, loss=0.035496, acc1=0.984375, acc2=1.0, lr=0.0025 .\n",
      "2021-05-31 22:25:53 [INFO]\t[TRAIN] Epoch=20/50, Step=1/5, loss=0.022264, acc1=0.992188, acc2=1.0, lr=0.0025, time_each_step=10.18s, eta=0:30:47\n",
      "2021-05-31 22:26:11 [INFO]\t[TRAIN] Epoch=20/50, Step=3/5, loss=0.081627, acc1=0.945312, acc2=1.0, lr=0.0025, time_each_step=10.16s, eta=0:30:26\n",
      "2021-05-31 22:26:29 [INFO]\t[TRAIN] Epoch=20/50, Step=5/5, loss=0.051765, acc1=0.984375, acc2=1.0, lr=0.0025, time_each_step=10.17s, eta=0:30:6\n",
      "2021-05-31 22:26:34 [INFO]\t[TRAIN] Epoch 20 finished, loss=0.068345, acc1=0.96875, acc2=1.0, lr=0.0025 .\n",
      "2021-05-31 22:26:34 [INFO]\tStart to evaluating(total_samples=80, total_steps=1)...\n"
     ]
    },
    {
     "name": "stderr",
     "output_type": "stream",
     "text": [
      "100%|██████████| 1/1 [00:10<00:00, 10.52s/it]\n"
     ]
    },
    {
     "name": "stdout",
     "output_type": "stream",
     "text": [
      "2021-05-31 22:26:44 [INFO]\t[EVAL] Finished, Epoch=20, acc1=0.9875, acc2=1.0 .\n",
      "2021-05-31 22:26:46 [INFO]\tModel saved in output/ResNet50_vd_ssld/epoch_20.\n",
      "2021-05-31 22:26:46 [INFO]\tCurrent evaluated best model in eval_dataset is epoch_15, acc1=1.0\n",
      "2021-05-31 22:27:08 [INFO]\t[TRAIN] Epoch=21/50, Step=2/5, loss=0.033789, acc1=0.984375, acc2=1.0, lr=0.00025, time_each_step=10.13s, eta=0:28:29\n",
      "2021-05-31 22:27:26 [INFO]\t[TRAIN] Epoch=21/50, Step=4/5, loss=0.036597, acc1=0.984375, acc2=1.0, lr=0.00025, time_each_step=10.1s, eta=0:28:9\n",
      "2021-05-31 22:27:39 [INFO]\t[TRAIN] Epoch 21 finished, loss=0.040268, acc1=0.98125, acc2=1.0, lr=0.00025 .\n",
      "2021-05-31 22:27:54 [INFO]\t[TRAIN] Epoch=22/50, Step=1/5, loss=0.036522, acc1=0.992188, acc2=1.0, lr=0.00025, time_each_step=10.06s, eta=0:26:41\n",
      "2021-05-31 22:28:13 [INFO]\t[TRAIN] Epoch=22/50, Step=3/5, loss=0.041788, acc1=0.984375, acc2=1.0, lr=0.00025, time_each_step=10.12s, eta=0:26:21\n",
      "2021-05-31 22:28:31 [INFO]\t[TRAIN] Epoch=22/50, Step=5/5, loss=0.01721, acc1=0.992188, acc2=1.0, lr=0.00025, time_each_step=10.09s, eta=0:26:1\n",
      "2021-05-31 22:28:37 [INFO]\t[TRAIN] Epoch 22 finished, loss=0.043117, acc1=0.982813, acc2=1.0, lr=0.00025 .\n",
      "2021-05-31 22:29:00 [INFO]\t[TRAIN] Epoch=23/50, Step=2/5, loss=0.019737, acc1=1.0, acc2=1.0, lr=0.00025, time_each_step=10.07s, eta=0:27:33\n",
      "2021-05-31 22:29:18 [INFO]\t[TRAIN] Epoch=23/50, Step=4/5, loss=0.094526, acc1=0.960938, acc2=1.0, lr=0.00025, time_each_step=10.03s, eta=0:27:13\n",
      "2021-05-31 22:29:32 [INFO]\t[TRAIN] Epoch 23 finished, loss=0.040042, acc1=0.985937, acc2=1.0, lr=0.00025 .\n",
      "2021-05-31 22:29:46 [INFO]\t[TRAIN] Epoch=24/50, Step=1/5, loss=0.012884, acc1=1.0, acc2=1.0, lr=0.00025, time_each_step=10.02s, eta=0:25:56\n",
      "2021-05-31 22:30:05 [INFO]\t[TRAIN] Epoch=24/50, Step=3/5, loss=0.053353, acc1=0.976562, acc2=1.0, lr=0.00025, time_each_step=10.04s, eta=0:25:36\n",
      "2021-05-31 22:30:23 [INFO]\t[TRAIN] Epoch=24/50, Step=5/5, loss=0.024866, acc1=0.984375, acc2=1.0, lr=0.00025, time_each_step=10.07s, eta=0:25:16\n",
      "2021-05-31 22:30:28 [INFO]\t[TRAIN] Epoch 24 finished, loss=0.032275, acc1=0.984375, acc2=1.0, lr=0.00025 .\n",
      "2021-05-31 22:30:53 [INFO]\t[TRAIN] Epoch=25/50, Step=2/5, loss=0.053851, acc1=0.960938, acc2=1.0, lr=0.00025, time_each_step=10.21s, eta=0:25:3\n",
      "2021-05-31 22:31:11 [INFO]\t[TRAIN] Epoch=25/50, Step=4/5, loss=0.067892, acc1=0.976562, acc2=1.0, lr=0.00025, time_each_step=10.27s, eta=0:24:43\n",
      "2021-05-31 22:31:25 [INFO]\t[TRAIN] Epoch 25 finished, loss=0.060099, acc1=0.975, acc2=1.0, lr=0.00025 .\n",
      "2021-05-31 22:31:25 [INFO]\tStart to evaluating(total_samples=80, total_steps=1)...\n"
     ]
    },
    {
     "name": "stderr",
     "output_type": "stream",
     "text": [
      "100%|██████████| 1/1 [00:09<00:00,  9.67s/it]\n"
     ]
    },
    {
     "name": "stdout",
     "output_type": "stream",
     "text": [
      "2021-05-31 22:31:35 [INFO]\t[EVAL] Finished, Epoch=25, acc1=0.9875, acc2=1.0 .\n",
      "2021-05-31 22:31:37 [INFO]\tModel saved in output/ResNet50_vd_ssld/epoch_25.\n",
      "2021-05-31 22:31:37 [INFO]\tCurrent evaluated best model in eval_dataset is epoch_15, acc1=1.0\n",
      "2021-05-31 22:31:52 [INFO]\t[TRAIN] Epoch=26/50, Step=1/5, loss=0.017285, acc1=1.0, acc2=1.0, lr=0.00025, time_each_step=10.29s, eta=0:24:32\n",
      "2021-05-31 22:32:10 [INFO]\t[TRAIN] Epoch=26/50, Step=3/5, loss=0.086057, acc1=0.984375, acc2=1.0, lr=0.00025, time_each_step=10.25s, eta=0:24:12\n",
      "2021-05-31 22:32:27 [INFO]\t[TRAIN] Epoch=26/50, Step=5/5, loss=0.024577, acc1=0.992188, acc2=1.0, lr=0.00025, time_each_step=10.2s, eta=0:23:51\n",
      "2021-05-31 22:32:33 [INFO]\t[TRAIN] Epoch 26 finished, loss=0.044327, acc1=0.9875, acc2=1.0, lr=0.00025 .\n",
      "2021-05-31 22:32:56 [INFO]\t[TRAIN] Epoch=27/50, Step=2/5, loss=0.056608, acc1=0.96875, acc2=1.0, lr=0.00025, time_each_step=10.21s, eta=0:22:51\n",
      "2021-05-31 22:33:14 [INFO]\t[TRAIN] Epoch=27/50, Step=4/5, loss=0.045308, acc1=0.96875, acc2=1.0, lr=0.00025, time_each_step=10.17s, eta=0:22:30\n",
      "2021-05-31 22:33:28 [INFO]\t[TRAIN] Epoch 27 finished, loss=0.045955, acc1=0.975, acc2=1.0, lr=0.00025 .\n",
      "2021-05-31 22:33:44 [INFO]\t[TRAIN] Epoch=28/50, Step=1/5, loss=0.057156, acc1=0.96875, acc2=1.0, lr=0.00025, time_each_step=10.28s, eta=0:21:51\n",
      "2021-05-31 22:34:02 [INFO]\t[TRAIN] Epoch=28/50, Step=3/5, loss=0.02497, acc1=1.0, acc2=1.0, lr=0.00025, time_each_step=10.27s, eta=0:21:31\n",
      "2021-05-31 22:34:19 [INFO]\t[TRAIN] Epoch=28/50, Step=5/5, loss=0.02817, acc1=0.984375, acc2=1.0, lr=0.00025, time_each_step=10.21s, eta=0:21:10\n",
      "2021-05-31 22:34:24 [INFO]\t[TRAIN] Epoch 28 finished, loss=0.050731, acc1=0.982813, acc2=1.0, lr=0.00025 .\n",
      "2021-05-31 22:34:48 [INFO]\t[TRAIN] Epoch=29/50, Step=2/5, loss=0.044609, acc1=0.992188, acc2=1.0, lr=0.00025, time_each_step=10.16s, eta=0:21:8\n",
      "2021-05-31 22:35:02 [INFO]\t[TRAIN] Epoch=29/50, Step=4/5, loss=0.033022, acc1=0.992188, acc2=1.0, lr=0.00025, time_each_step=9.96s, eta=0:20:47\n",
      "2021-05-31 22:35:14 [INFO]\t[TRAIN] Epoch 29 finished, loss=0.036459, acc1=0.9875, acc2=1.0, lr=0.00025 .\n",
      "2021-05-31 22:35:26 [INFO]\t[TRAIN] Epoch=30/50, Step=1/5, loss=0.029084, acc1=0.992188, acc2=1.0, lr=0.00025, time_each_step=9.77s, eta=0:18:12\n",
      "2021-05-31 22:35:42 [INFO]\t[TRAIN] Epoch=30/50, Step=3/5, loss=0.027623, acc1=0.984375, acc2=1.0, lr=0.00025, time_each_step=9.65s, eta=0:17:52\n",
      "2021-05-31 22:35:56 [INFO]\t[TRAIN] Epoch=30/50, Step=5/5, loss=0.067202, acc1=0.960938, acc2=1.0, lr=0.00025, time_each_step=9.52s, eta=0:17:33\n",
      "2021-05-31 22:36:00 [INFO]\t[TRAIN] Epoch 30 finished, loss=0.036141, acc1=0.985937, acc2=1.0, lr=0.00025 .\n",
      "2021-05-31 22:36:00 [INFO]\tStart to evaluating(total_samples=80, total_steps=1)...\n"
     ]
    },
    {
     "name": "stderr",
     "output_type": "stream",
     "text": [
      "100%|██████████| 1/1 [00:10<00:00, 10.31s/it]\n"
     ]
    },
    {
     "name": "stdout",
     "output_type": "stream",
     "text": [
      "2021-05-31 22:36:11 [INFO]\t[EVAL] Finished, Epoch=30, acc1=0.975, acc2=1.0 .\n",
      "2021-05-31 22:36:13 [INFO]\tModel saved in output/ResNet50_vd_ssld/epoch_30.\n",
      "2021-05-31 22:36:13 [INFO]\tCurrent evaluated best model in eval_dataset is epoch_15, acc1=1.0\n",
      "2021-05-31 22:36:31 [INFO]\t[TRAIN] Epoch=31/50, Step=2/5, loss=0.028004, acc1=0.992188, acc2=1.0, lr=2.5e-05, time_each_step=9.29s, eta=0:16:2\n",
      "2021-05-31 22:36:47 [INFO]\t[TRAIN] Epoch=31/50, Step=4/5, loss=0.052551, acc1=0.976562, acc2=1.0, lr=2.5e-05, time_each_step=9.16s, eta=0:15:43\n",
      "2021-05-31 22:36:57 [INFO]\t[TRAIN] Epoch 31 finished, loss=0.041318, acc1=0.984375, acc2=1.0, lr=2.5e-05 .\n",
      "2021-05-31 22:37:10 [INFO]\t[TRAIN] Epoch=32/50, Step=1/5, loss=0.014879, acc1=1.0, acc2=1.0, lr=2.5e-05, time_each_step=8.87s, eta=0:14:51\n",
      "2021-05-31 22:37:25 [INFO]\t[TRAIN] Epoch=32/50, Step=3/5, loss=0.037295, acc1=0.984375, acc2=1.0, lr=2.5e-05, time_each_step=8.73s, eta=0:14:33\n",
      "2021-05-31 22:37:40 [INFO]\t[TRAIN] Epoch=32/50, Step=5/5, loss=0.029179, acc1=0.992188, acc2=1.0, lr=2.5e-05, time_each_step=8.61s, eta=0:14:16\n",
      "2021-05-31 22:37:44 [INFO]\t[TRAIN] Epoch 32 finished, loss=0.028714, acc1=0.992188, acc2=1.0, lr=2.5e-05 .\n",
      "2021-05-31 22:38:07 [INFO]\t[TRAIN] Epoch=33/50, Step=2/5, loss=0.041693, acc1=0.984375, acc2=1.0, lr=2.5e-05, time_each_step=8.58s, eta=0:14:26\n",
      "2021-05-31 22:38:24 [INFO]\t[TRAIN] Epoch=33/50, Step=4/5, loss=0.068076, acc1=0.976562, acc2=1.0, lr=2.5e-05, time_each_step=8.71s, eta=0:14:9\n",
      "2021-05-31 22:38:39 [INFO]\t[TRAIN] Epoch 33 finished, loss=0.045414, acc1=0.982813, acc2=1.0, lr=2.5e-05 .\n",
      "2021-05-31 22:38:53 [INFO]\t[TRAIN] Epoch=34/50, Step=1/5, loss=0.016332, acc1=1.0, acc2=1.0, lr=2.5e-05, time_each_step=8.9s, eta=0:16:1\n",
      "2021-05-31 22:39:11 [INFO]\t[TRAIN] Epoch=34/50, Step=3/5, loss=0.051159, acc1=0.992188, acc2=1.0, lr=2.5e-05, time_each_step=9.02s, eta=0:15:43\n",
      "2021-05-31 22:39:29 [INFO]\t[TRAIN] Epoch=34/50, Step=5/5, loss=0.060815, acc1=0.984375, acc2=1.0, lr=2.5e-05, time_each_step=9.19s, eta=0:15:25\n",
      "2021-05-31 22:39:34 [INFO]\t[TRAIN] Epoch 34 finished, loss=0.03476, acc1=0.99375, acc2=1.0, lr=2.5e-05 .\n",
      "2021-05-31 22:39:57 [INFO]\t[TRAIN] Epoch=35/50, Step=2/5, loss=0.025499, acc1=0.992188, acc2=1.0, lr=2.5e-05, time_each_step=9.41s, eta=0:15:6\n",
      "2021-05-31 22:40:15 [INFO]\t[TRAIN] Epoch=35/50, Step=4/5, loss=0.089141, acc1=0.945312, acc2=1.0, lr=2.5e-05, time_each_step=9.56s, eta=0:14:47\n",
      "2021-05-31 22:40:30 [INFO]\t[TRAIN] Epoch 35 finished, loss=0.044978, acc1=0.979688, acc2=1.0, lr=2.5e-05 .\n",
      "2021-05-31 22:40:30 [INFO]\tStart to evaluating(total_samples=80, total_steps=1)...\n"
     ]
    },
    {
     "name": "stderr",
     "output_type": "stream",
     "text": [
      "100%|██████████| 1/1 [00:09<00:00,  9.42s/it]\n"
     ]
    },
    {
     "name": "stdout",
     "output_type": "stream",
     "text": [
      "2021-05-31 22:40:39 [INFO]\t[EVAL] Finished, Epoch=35, acc1=0.975, acc2=1.0 .\n",
      "2021-05-31 22:40:41 [INFO]\tModel saved in output/ResNet50_vd_ssld/epoch_35.\n",
      "2021-05-31 22:40:41 [INFO]\tCurrent evaluated best model in eval_dataset is epoch_15, acc1=1.0\n",
      "2021-05-31 22:40:54 [INFO]\t[TRAIN] Epoch=36/50, Step=1/5, loss=0.049098, acc1=0.976562, acc2=1.0, lr=2.5e-05, time_each_step=9.71s, eta=0:14:12\n",
      "2021-05-31 22:41:13 [INFO]\t[TRAIN] Epoch=36/50, Step=3/5, loss=0.063622, acc1=0.976562, acc2=1.0, lr=2.5e-05, time_each_step=9.86s, eta=0:13:53\n",
      "2021-05-31 22:41:30 [INFO]\t[TRAIN] Epoch=36/50, Step=5/5, loss=0.064379, acc1=0.976562, acc2=1.0, lr=2.5e-05, time_each_step=9.97s, eta=0:13:33\n",
      "2021-05-31 22:41:35 [INFO]\t[TRAIN] Epoch 36 finished, loss=0.049689, acc1=0.98125, acc2=1.0, lr=2.5e-05 .\n",
      "2021-05-31 22:41:58 [INFO]\t[TRAIN] Epoch=37/50, Step=2/5, loss=0.04314, acc1=0.976562, acc2=1.0, lr=2.5e-05, time_each_step=10.0s, eta=0:12:41\n",
      "2021-05-31 22:42:16 [INFO]\t[TRAIN] Epoch=37/50, Step=4/5, loss=0.081504, acc1=0.96875, acc2=1.0, lr=2.5e-05, time_each_step=10.04s, eta=0:12:21\n",
      "2021-05-31 22:42:31 [INFO]\t[TRAIN] Epoch 37 finished, loss=0.044787, acc1=0.98125, acc2=1.0, lr=2.5e-05 .\n",
      "2021-05-31 22:42:45 [INFO]\t[TRAIN] Epoch=38/50, Step=1/5, loss=0.074191, acc1=0.984375, acc2=1.0, lr=2.5e-05, time_each_step=10.03s, eta=0:12:33\n",
      "2021-05-31 22:43:03 [INFO]\t[TRAIN] Epoch=38/50, Step=3/5, loss=0.027902, acc1=0.992188, acc2=1.0, lr=2.5e-05, time_each_step=10.03s, eta=0:12:13\n",
      "2021-05-31 22:43:20 [INFO]\t[TRAIN] Epoch=38/50, Step=5/5, loss=0.019256, acc1=1.0, acc2=1.0, lr=2.5e-05, time_each_step=9.99s, eta=0:11:52\n",
      "2021-05-31 22:43:25 [INFO]\t[TRAIN] Epoch 38 finished, loss=0.035851, acc1=0.990625, acc2=1.0, lr=2.5e-05 .\n",
      "2021-05-31 22:43:49 [INFO]\t[TRAIN] Epoch=39/50, Step=2/5, loss=0.024769, acc1=0.992188, acc2=1.0, lr=2.5e-05, time_each_step=10.05s, eta=0:10:56\n",
      "2021-05-31 22:44:08 [INFO]\t[TRAIN] Epoch=39/50, Step=4/5, loss=0.063637, acc1=0.976562, acc2=1.0, lr=2.5e-05, time_each_step=10.06s, eta=0:10:36\n",
      "2021-05-31 22:44:21 [INFO]\t[TRAIN] Epoch 39 finished, loss=0.035768, acc1=0.989062, acc2=1.0, lr=2.5e-05 .\n",
      "2021-05-31 22:44:34 [INFO]\t[TRAIN] Epoch=40/50, Step=1/5, loss=0.047577, acc1=0.984375, acc2=1.0, lr=2.5e-05, time_each_step=10.01s, eta=0:10:35\n",
      "2021-05-31 22:44:51 [INFO]\t[TRAIN] Epoch=40/50, Step=3/5, loss=0.016273, acc1=0.992188, acc2=1.0, lr=2.5e-05, time_each_step=9.93s, eta=0:10:15\n",
      "2021-05-31 22:45:06 [INFO]\t[TRAIN] Epoch=40/50, Step=5/5, loss=0.048042, acc1=0.984375, acc2=1.0, lr=2.5e-05, time_each_step=9.83s, eta=0:9:55\n",
      "2021-05-31 22:45:10 [INFO]\t[TRAIN] Epoch 40 finished, loss=0.041669, acc1=0.984375, acc2=1.0, lr=2.5e-05 .\n",
      "2021-05-31 22:45:10 [INFO]\tStart to evaluating(total_samples=80, total_steps=1)...\n"
     ]
    },
    {
     "name": "stderr",
     "output_type": "stream",
     "text": [
      "100%|██████████| 1/1 [00:09<00:00,  9.94s/it]\n"
     ]
    },
    {
     "name": "stdout",
     "output_type": "stream",
     "text": [
      "2021-05-31 22:45:20 [INFO]\t[EVAL] Finished, Epoch=40, acc1=0.975, acc2=1.0 .\n",
      "2021-05-31 22:45:22 [INFO]\tModel saved in output/ResNet50_vd_ssld/epoch_40.\n",
      "2021-05-31 22:45:22 [INFO]\tCurrent evaluated best model in eval_dataset is epoch_15, acc1=1.0\n",
      "2021-05-31 22:45:43 [INFO]\t[TRAIN] Epoch=41/50, Step=2/5, loss=0.044529, acc1=0.984375, acc2=1.0, lr=2.5e-05, time_each_step=9.72s, eta=0:8:10\n",
      "2021-05-31 22:46:01 [INFO]\t[TRAIN] Epoch=41/50, Step=4/5, loss=0.040087, acc1=0.984375, acc2=1.0, lr=2.5e-05, time_each_step=9.73s, eta=0:7:51\n",
      "2021-05-31 22:46:15 [INFO]\t[TRAIN] Epoch 41 finished, loss=0.04936, acc1=0.979688, acc2=1.0, lr=2.5e-05 .\n",
      "2021-05-31 22:46:27 [INFO]\t[TRAIN] Epoch=42/50, Step=1/5, loss=0.037626, acc1=0.984375, acc2=1.0, lr=2.5e-05, time_each_step=9.62s, eta=0:8:7\n",
      "2021-05-31 22:46:43 [INFO]\t[TRAIN] Epoch=42/50, Step=3/5, loss=0.04614, acc1=0.984375, acc2=1.0, lr=2.5e-05, time_each_step=9.51s, eta=0:7:48\n",
      "2021-05-31 22:46:58 [INFO]\t[TRAIN] Epoch=42/50, Step=5/5, loss=0.037091, acc1=0.976562, acc2=1.0, lr=2.5e-05, time_each_step=9.41s, eta=0:7:29\n",
      "2021-05-31 22:47:03 [INFO]\t[TRAIN] Epoch 42 finished, loss=0.040742, acc1=0.984375, acc2=1.0, lr=2.5e-05 .\n",
      "2021-05-31 22:47:25 [INFO]\t[TRAIN] Epoch=43/50, Step=2/5, loss=0.087857, acc1=0.953125, acc2=1.0, lr=2.5e-05, time_each_step=9.32s, eta=0:6:25\n",
      "2021-05-31 22:47:43 [INFO]\t[TRAIN] Epoch=43/50, Step=4/5, loss=0.092354, acc1=0.96875, acc2=1.0, lr=2.5e-05, time_each_step=9.32s, eta=0:6:7\n",
      "2021-05-31 22:47:57 [INFO]\t[TRAIN] Epoch 43 finished, loss=0.063007, acc1=0.973437, acc2=1.0, lr=2.5e-05 .\n",
      "2021-05-31 22:48:11 [INFO]\t[TRAIN] Epoch=44/50, Step=1/5, loss=0.027533, acc1=0.992188, acc2=1.0, lr=2.5e-05, time_each_step=9.38s, eta=0:6:26\n",
      "2021-05-31 22:48:30 [INFO]\t[TRAIN] Epoch=44/50, Step=3/5, loss=0.039852, acc1=0.984375, acc2=1.0, lr=2.5e-05, time_each_step=9.48s, eta=0:6:8\n",
      "2021-05-31 22:48:48 [INFO]\t[TRAIN] Epoch=44/50, Step=5/5, loss=0.031683, acc1=0.992188, acc2=1.0, lr=2.5e-05, time_each_step=9.62s, eta=0:5:49\n",
      "2021-05-31 22:48:53 [INFO]\t[TRAIN] Epoch 44 finished, loss=0.03719, acc1=0.9875, acc2=1.0, lr=2.5e-05 .\n",
      "2021-05-31 22:49:17 [INFO]\t[TRAIN] Epoch=45/50, Step=2/5, loss=0.047112, acc1=0.984375, acc2=1.0, lr=2.5e-05, time_each_step=9.74s, eta=0:5:35\n",
      "2021-05-31 22:49:35 [INFO]\t[TRAIN] Epoch=45/50, Step=4/5, loss=0.039972, acc1=0.984375, acc2=1.0, lr=2.5e-05, time_each_step=9.74s, eta=0:5:15\n",
      "2021-05-31 22:49:50 [INFO]\t[TRAIN] Epoch 45 finished, loss=0.032068, acc1=0.989062, acc2=1.0, lr=2.5e-05 .\n",
      "2021-05-31 22:49:50 [INFO]\tStart to evaluating(total_samples=80, total_steps=1)...\n"
     ]
    },
    {
     "name": "stderr",
     "output_type": "stream",
     "text": [
      "100%|██████████| 1/1 [00:10<00:00, 10.04s/it]\n"
     ]
    },
    {
     "name": "stdout",
     "output_type": "stream",
     "text": [
      "2021-05-31 22:50:00 [INFO]\t[EVAL] Finished, Epoch=45, acc1=0.975, acc2=1.0 .\n",
      "2021-05-31 22:50:02 [INFO]\tModel saved in output/ResNet50_vd_ssld/epoch_45.\n",
      "2021-05-31 22:50:02 [INFO]\tCurrent evaluated best model in eval_dataset is epoch_15, acc1=1.0\n",
      "2021-05-31 22:50:14 [INFO]\t[TRAIN] Epoch=46/50, Step=1/5, loss=0.030663, acc1=0.992188, acc2=1.0, lr=2.5e-05, time_each_step=9.77s, eta=0:4:36\n",
      "2021-05-31 22:50:33 [INFO]\t[TRAIN] Epoch=46/50, Step=3/5, loss=0.055259, acc1=0.960938, acc2=1.0, lr=2.5e-05, time_each_step=9.92s, eta=0:4:17\n",
      "2021-05-31 22:50:50 [INFO]\t[TRAIN] Epoch=46/50, Step=5/5, loss=0.029844, acc1=0.992188, acc2=1.0, lr=2.5e-05, time_each_step=10.0s, eta=0:3:57\n",
      "2021-05-31 22:50:55 [INFO]\t[TRAIN] Epoch 46 finished, loss=0.045759, acc1=0.982813, acc2=1.0, lr=2.5e-05 .\n",
      "2021-05-31 22:51:18 [INFO]\t[TRAIN] Epoch=47/50, Step=2/5, loss=0.023082, acc1=0.992188, acc2=1.0, lr=2.5e-05, time_each_step=10.05s, eta=0:3:21\n",
      "2021-05-31 22:51:36 [INFO]\t[TRAIN] Epoch=47/50, Step=4/5, loss=0.041724, acc1=0.984375, acc2=1.0, lr=2.5e-05, time_each_step=10.03s, eta=0:3:1\n",
      "2021-05-31 22:51:50 [INFO]\t[TRAIN] Epoch 47 finished, loss=0.039117, acc1=0.984375, acc2=1.0, lr=2.5e-05 .\n",
      "2021-05-31 22:52:03 [INFO]\t[TRAIN] Epoch=48/50, Step=1/5, loss=0.03784, acc1=0.976562, acc2=1.0, lr=2.5e-05, time_each_step=10.04s, eta=0:2:41\n",
      "2021-05-31 22:52:23 [INFO]\t[TRAIN] Epoch=48/50, Step=3/5, loss=0.037909, acc1=0.984375, acc2=1.0, lr=2.5e-05, time_each_step=10.04s, eta=0:2:21\n",
      "2021-05-31 22:52:41 [INFO]\t[TRAIN] Epoch=48/50, Step=5/5, loss=0.036344, acc1=0.992188, acc2=1.0, lr=2.5e-05, time_each_step=10.08s, eta=0:2:1\n",
      "2021-05-31 22:52:46 [INFO]\t[TRAIN] Epoch 48 finished, loss=0.046527, acc1=0.98125, acc2=1.0, lr=2.5e-05 .\n",
      "2021-05-31 22:53:11 [INFO]\t[TRAIN] Epoch=49/50, Step=2/5, loss=0.017017, acc1=1.0, acc2=1.0, lr=2.5e-05, time_each_step=10.12s, eta=0:1:38\n",
      "2021-05-31 22:53:28 [INFO]\t[TRAIN] Epoch=49/50, Step=4/5, loss=0.044124, acc1=0.976562, acc2=1.0, lr=2.5e-05, time_each_step=10.1s, eta=0:1:18\n",
      "2021-05-31 22:53:41 [INFO]\t[TRAIN] Epoch 49 finished, loss=0.030042, acc1=0.990625, acc2=1.0, lr=2.5e-05 .\n",
      "2021-05-31 22:53:55 [INFO]\t[TRAIN] Epoch=50/50, Step=1/5, loss=0.033197, acc1=0.984375, acc2=1.0, lr=2.5e-05, time_each_step=10.13s, eta=0:0:52\n",
      "2021-05-31 22:54:15 [INFO]\t[TRAIN] Epoch=50/50, Step=3/5, loss=0.04754, acc1=0.976562, acc2=1.0, lr=2.5e-05, time_each_step=10.16s, eta=0:0:32\n",
      "2021-05-31 22:54:33 [INFO]\t[TRAIN] Epoch=50/50, Step=5/5, loss=0.024958, acc1=0.992188, acc2=1.0, lr=2.5e-05, time_each_step=10.24s, eta=0:0:11\n",
      "2021-05-31 22:54:38 [INFO]\t[TRAIN] Epoch 50 finished, loss=0.040118, acc1=0.98125, acc2=1.0, lr=2.5e-05 .\n",
      "2021-05-31 22:54:38 [INFO]\tStart to evaluating(total_samples=80, total_steps=1)...\n"
     ]
    },
    {
     "name": "stderr",
     "output_type": "stream",
     "text": [
      "100%|██████████| 1/1 [00:09<00:00,  9.03s/it]\n"
     ]
    },
    {
     "name": "stdout",
     "output_type": "stream",
     "text": [
      "2021-05-31 22:54:47 [INFO]\t[EVAL] Finished, Epoch=50, acc1=0.975, acc2=1.0 .\n",
      "2021-05-31 22:54:49 [INFO]\tModel saved in output/ResNet50_vd_ssld/epoch_50.\n",
      "2021-05-31 22:54:49 [INFO]\tCurrent evaluated best model in eval_dataset is epoch_15, acc1=1.0\n"
     ]
    }
   ],
   "source": [
    "model = pdx.cls.ResNet50_vd_ssld(num_classes=2)\r\n",
    "# model = pdx.cls.ResNet101_vd_ssld(num_classes=2)\r\n",
    "model = pdx.cls.MobileNetV3_large_ssld(num_classes=2)\r\n",
    "model.train(num_epochs=50,\r\n",
    "            train_dataset=train_dataset,\r\n",
    "            train_batch_size=128,\r\n",
    "            eval_dataset=eval_dataset,\r\n",
    "            lr_decay_epochs=[10, 20, 30],\r\n",
    "            save_interval_epochs=5,\r\n",
    "            learning_rate=0.025,\r\n",
    "            save_dir='output/ResNet50_vd_ssld',\r\n",
    "            use_vdl=True)"
   ]
  },
  {
   "cell_type": "markdown",
   "metadata": {
    "collapsed": false
   },
   "source": [
    "训练过程\n",
    "![](https://ai-studio-static-online.cdn.bcebos.com/0f35f0467a8b4586a26cacaeb29bc3aec54d9ba6b27b4c868c23355922e34d14)\n"
   ]
  },
  {
   "cell_type": "code",
   "execution_count": 7,
   "metadata": {
    "collapsed": false
   },
   "outputs": [],
   "source": [
    "import paddlex as pdx\r\n",
    "model = pdx.load_model('output/ResNet50_vd_ssld_new/best_model')\r\n",
    "image_name = 'dataset/PALM-Testing400-Images/T0001.jpg'\r\n",
    "result = model.predict(image_name, topk=2)\r\n",
    "print(\"Predict Result:\", result)"
   ]
  },
  {
   "cell_type": "code",
   "execution_count": 8,
   "metadata": {
    "collapsed": false
   },
   "outputs": [],
   "source": [
    "# 预测数据集val_list\r\n",
    "val_list=[]\r\n",
    "for i in range(1,401,1):\r\n",
    "    filename='T'+ str(i).zfill(4)+'.jpg'\r\n",
    "    print(filename)\r\n",
    "    val_list.append(filename+'\\n')\r\n",
    "\r\n",
    "with open('val_list.txt','w') as f:\r\n",
    "    f.writelines(val_list)\r\n",
    "    \r\n",
    "val_list=[]\r\n",
    "with open('val_list.txt', 'r') as f:\r\n",
    "    for line in f:\r\n",
    "        line='dataset/PALM-Testing400-Images/'+line\r\n",
    "        val_list.append(line.split('\\n')[0])\r\n",
    "        # print(line.split('\\n')[0])\r\n",
    "# print(val_list)"
   ]
  },
  {
   "cell_type": "code",
   "execution_count": 19,
   "metadata": {
    "collapsed": false
   },
   "outputs": [
    {
     "name": "stdout",
     "output_type": "stream",
     "text": [
      "2021-06-03 23:19:55 [INFO]\tModel[ResNet50_vd_ssld] loaded.\n",
      "Predict Result: [[{'category_id': 1, 'category': '病理性近视眼底彩照', 'score': 0.99996376}], [{'category_id': 0, 'category': '非病理性近视眼底彩照', 'score': 0.99999917}], [{'category_id': 0, 'category': '非病理性近视眼底彩照', 'score': 1.0}], [{'category_id': 1, 'category': '病理性近视眼底彩照', 'score': 0.999521}], [{'category_id': 1, 'category': '病理性近视眼底彩照', 'score': 0.9999963}], [{'category_id': 0, 'category': '非病理性近视眼底彩照', 'score': 0.99999976}], [{'category_id': 1, 'category': '病理性近视眼底彩照', 'score': 0.9941407}], [{'category_id': 1, 'category': '病理性近视眼底彩照', 'score': 0.9998398}], [{'category_id': 1, 'category': '病理性近视眼底彩照', 'score': 0.9992532}], [{'category_id': 1, 'category': '病理性近视眼底彩照', 'score': 0.9999285}], [{'category_id': 0, 'category': '非病理性近视眼底彩照', 'score': 0.9991247}], [{'category_id': 1, 'category': '病理性近视眼底彩照', 'score': 0.9998838}], [{'category_id': 1, 'category': '病理性近视眼底彩照', 'score': 0.9997199}], [{'category_id': 1, 'category': '病理性近视眼底彩照', 'score': 0.92248994}], [{'category_id': 1, 'category': '病理性近视眼底彩照', 'score': 0.95554996}], [{'category_id': 0, 'category': '非病理性近视眼底彩照', 'score': 1.0}], [{'category_id': 0, 'category': '非病理性近视眼底彩照', 'score': 1.0}], [{'category_id': 1, 'category': '病理性近视眼底彩照', 'score': 0.99998045}], [{'category_id': 0, 'category': '非病理性近视眼底彩照', 'score': 1.0}], [{'category_id': 1, 'category': '病理性近视眼底彩照', 'score': 0.9997404}], [{'category_id': 0, 'category': '非病理性近视眼底彩照', 'score': 1.0}], [{'category_id': 0, 'category': '非病理性近视眼底彩照', 'score': 1.0}], [{'category_id': 1, 'category': '病理性近视眼底彩照', 'score': 0.99990785}], [{'category_id': 0, 'category': '非病理性近视眼底彩照', 'score': 1.0}], [{'category_id': 0, 'category': '非病理性近视眼底彩照', 'score': 1.0}], [{'category_id': 1, 'category': '病理性近视眼底彩照', 'score': 0.9998888}], [{'category_id': 0, 'category': '非病理性近视眼底彩照', 'score': 0.9999995}], [{'category_id': 0, 'category': '非病理性近视眼底彩照', 'score': 1.0}], [{'category_id': 1, 'category': '病理性近视眼底彩照', 'score': 0.9999908}], [{'category_id': 0, 'category': '非病理性近视眼底彩照', 'score': 0.9999993}], [{'category_id': 0, 'category': '非病理性近视眼底彩照', 'score': 0.9999993}], [{'category_id': 0, 'category': '非病理性近视眼底彩照', 'score': 1.0}], [{'category_id': 0, 'category': '非病理性近视眼底彩照', 'score': 1.0}], [{'category_id': 1, 'category': '病理性近视眼底彩照', 'score': 0.99991393}], [{'category_id': 1, 'category': '病理性近视眼底彩照', 'score': 0.99999607}], [{'category_id': 1, 'category': '病理性近视眼底彩照', 'score': 0.99964774}], [{'category_id': 1, 'category': '病理性近视眼底彩照', 'score': 0.99999917}], [{'category_id': 1, 'category': '病理性近视眼底彩照', 'score': 0.92923784}], [{'category_id': 0, 'category': '非病理性近视眼底彩照', 'score': 0.9999999}], [{'category_id': 0, 'category': '非病理性近视眼底彩照', 'score': 1.0}], [{'category_id': 1, 'category': '病理性近视眼底彩照', 'score': 0.9995147}], [{'category_id': 0, 'category': '非病理性近视眼底彩照', 'score': 1.0}], [{'category_id': 1, 'category': '病理性近视眼底彩照', 'score': 0.9843529}], [{'category_id': 0, 'category': '非病理性近视眼底彩照', 'score': 1.0}], [{'category_id': 0, 'category': '非病理性近视眼底彩照', 'score': 0.9999709}], [{'category_id': 0, 'category': '非病理性近视眼底彩照', 'score': 1.0}], [{'category_id': 0, 'category': '非病理性近视眼底彩照', 'score': 1.0}], [{'category_id': 0, 'category': '非病理性近视眼底彩照', 'score': 1.0}], [{'category_id': 0, 'category': '非病理性近视眼底彩照', 'score': 1.0}], [{'category_id': 1, 'category': '病理性近视眼底彩照', 'score': 0.99999607}], [{'category_id': 1, 'category': '病理性近视眼底彩照', 'score': 0.99999964}], [{'category_id': 0, 'category': '非病理性近视眼底彩照', 'score': 1.0}], [{'category_id': 0, 'category': '非病理性近视眼底彩照', 'score': 0.9999993}], [{'category_id': 1, 'category': '病理性近视眼底彩照', 'score': 0.9999523}], [{'category_id': 1, 'category': '病理性近视眼底彩照', 'score': 0.99901414}], [{'category_id': 0, 'category': '非病理性近视眼底彩照', 'score': 0.7577595}], [{'category_id': 0, 'category': '非病理性近视眼底彩照', 'score': 0.9999956}], [{'category_id': 1, 'category': '病理性近视眼底彩照', 'score': 0.99997437}], [{'category_id': 1, 'category': '病理性近视眼底彩照', 'score': 0.9999933}], [{'category_id': 0, 'category': '非病理性近视眼底彩照', 'score': 0.5105382}], [{'category_id': 1, 'category': '病理性近视眼底彩照', 'score': 0.92244697}], [{'category_id': 0, 'category': '非病理性近视眼底彩照', 'score': 0.9891478}], [{'category_id': 0, 'category': '非病理性近视眼底彩照', 'score': 0.9999994}], [{'category_id': 1, 'category': '病理性近视眼底彩照', 'score': 0.99993694}], [{'category_id': 1, 'category': '病理性近视眼底彩照', 'score': 0.8716998}], [{'category_id': 1, 'category': '病理性近视眼底彩照', 'score': 0.9894106}], [{'category_id': 1, 'category': '病理性近视眼底彩照', 'score': 0.9927631}], [{'category_id': 0, 'category': '非病理性近视眼底彩照', 'score': 1.0}], [{'category_id': 1, 'category': '病理性近视眼底彩照', 'score': 0.9999999}], [{'category_id': 0, 'category': '非病理性近视眼底彩照', 'score': 1.0}], [{'category_id': 1, 'category': '病理性近视眼底彩照', 'score': 0.9996001}], [{'category_id': 1, 'category': '病理性近视眼底彩照', 'score': 0.99997604}], [{'category_id': 1, 'category': '病理性近视眼底彩照', 'score': 0.9999821}], [{'category_id': 1, 'category': '病理性近视眼底彩照', 'score': 0.99999726}], [{'category_id': 1, 'category': '病理性近视眼底彩照', 'score': 0.9844766}], [{'category_id': 0, 'category': '非病理性近视眼底彩照', 'score': 1.0}], [{'category_id': 0, 'category': '非病理性近视眼底彩照', 'score': 0.9999989}], [{'category_id': 0, 'category': '非病理性近视眼底彩照', 'score': 1.0}], [{'category_id': 1, 'category': '病理性近视眼底彩照', 'score': 0.9770363}], [{'category_id': 1, 'category': '病理性近视眼底彩照', 'score': 0.9987657}], [{'category_id': 1, 'category': '病理性近视眼底彩照', 'score': 0.99998593}], [{'category_id': 1, 'category': '病理性近视眼底彩照', 'score': 0.9993567}], [{'category_id': 0, 'category': '非病理性近视眼底彩照', 'score': 1.0}], [{'category_id': 0, 'category': '非病理性近视眼底彩照', 'score': 1.0}], [{'category_id': 1, 'category': '病理性近视眼底彩照', 'score': 0.99998856}], [{'category_id': 1, 'category': '病理性近视眼底彩照', 'score': 0.9971089}], [{'category_id': 1, 'category': '病理性近视眼底彩照', 'score': 0.9999999}], [{'category_id': 1, 'category': '病理性近视眼底彩照', 'score': 0.99999785}], [{'category_id': 0, 'category': '非病理性近视眼底彩照', 'score': 1.0}], [{'category_id': 0, 'category': '非病理性近视眼底彩照', 'score': 1.0}], [{'category_id': 1, 'category': '病理性近视眼底彩照', 'score': 0.9995466}], [{'category_id': 1, 'category': '病理性近视眼底彩照', 'score': 0.99999344}], [{'category_id': 0, 'category': '非病理性近视眼底彩照', 'score': 0.9999994}], [{'category_id': 0, 'category': '非病理性近视眼底彩照', 'score': 0.9678706}], [{'category_id': 0, 'category': '非病理性近视眼底彩照', 'score': 1.0}], [{'category_id': 0, 'category': '非病理性近视眼底彩照', 'score': 0.9999925}], [{'category_id': 1, 'category': '病理性近视眼底彩照', 'score': 0.99864274}], [{'category_id': 0, 'category': '非病理性近视眼底彩照', 'score': 1.0}], [{'category_id': 0, 'category': '非病理性近视眼底彩照', 'score': 1.0}], [{'category_id': 1, 'category': '病理性近视眼底彩照', 'score': 0.9090305}], [{'category_id': 1, 'category': '病理性近视眼底彩照', 'score': 0.9999993}], [{'category_id': 1, 'category': '病理性近视眼底彩照', 'score': 0.99985635}], [{'category_id': 0, 'category': '非病理性近视眼底彩照', 'score': 0.9999819}], [{'category_id': 0, 'category': '非病理性近视眼底彩照', 'score': 0.9999999}], [{'category_id': 1, 'category': '病理性近视眼底彩照', 'score': 0.9992478}], [{'category_id': 1, 'category': '病理性近视眼底彩照', 'score': 0.99999976}], [{'category_id': 1, 'category': '病理性近视眼底彩照', 'score': 0.99989784}], [{'category_id': 0, 'category': '非病理性近视眼底彩照', 'score': 1.0}], [{'category_id': 1, 'category': '病理性近视眼底彩照', 'score': 0.9980209}], [{'category_id': 1, 'category': '病理性近视眼底彩照', 'score': 0.99931335}], [{'category_id': 0, 'category': '非病理性近视眼底彩照', 'score': 0.99437886}], [{'category_id': 0, 'category': '非病理性近视眼底彩照', 'score': 0.9999999}], [{'category_id': 1, 'category': '病理性近视眼底彩照', 'score': 0.9999969}], [{'category_id': 1, 'category': '病理性近视眼底彩照', 'score': 0.99983466}], [{'category_id': 1, 'category': '病理性近视眼底彩照', 'score': 0.99454236}], [{'category_id': 1, 'category': '病理性近视眼底彩照', 'score': 0.99996233}], [{'category_id': 0, 'category': '非病理性近视眼底彩照', 'score': 0.9731626}], [{'category_id': 0, 'category': '非病理性近视眼底彩照', 'score': 1.0}], [{'category_id': 0, 'category': '非病理性近视眼底彩照', 'score': 1.0}], [{'category_id': 0, 'category': '非病理性近视眼底彩照', 'score': 0.9999993}], [{'category_id': 0, 'category': '非病理性近视眼底彩照', 'score': 0.99999964}], [{'category_id': 1, 'category': '病理性近视眼底彩照', 'score': 0.9992619}], [{'category_id': 1, 'category': '病理性近视眼底彩照', 'score': 0.98434895}], [{'category_id': 1, 'category': '病理性近视眼底彩照', 'score': 0.99990225}], [{'category_id': 0, 'category': '非病理性近视眼底彩照', 'score': 1.0}], [{'category_id': 1, 'category': '病理性近视眼底彩照', 'score': 0.9963433}], [{'category_id': 1, 'category': '病理性近视眼底彩照', 'score': 0.99272364}], [{'category_id': 0, 'category': '非病理性近视眼底彩照', 'score': 0.999995}], [{'category_id': 0, 'category': '非病理性近视眼底彩照', 'score': 1.0}], [{'category_id': 1, 'category': '病理性近视眼底彩照', 'score': 0.99914706}], [{'category_id': 1, 'category': '病理性近视眼底彩照', 'score': 0.979143}], [{'category_id': 1, 'category': '病理性近视眼底彩照', 'score': 0.8999}], [{'category_id': 1, 'category': '病理性近视眼底彩照', 'score': 0.9999769}], [{'category_id': 1, 'category': '病理性近视眼底彩照', 'score': 0.99902785}], [{'category_id': 0, 'category': '非病理性近视眼底彩照', 'score': 0.9990656}], [{'category_id': 1, 'category': '病理性近视眼底彩照', 'score': 0.9998759}], [{'category_id': 1, 'category': '病理性近视眼底彩照', 'score': 0.895853}], [{'category_id': 0, 'category': '非病理性近视眼底彩照', 'score': 0.9999999}], [{'category_id': 1, 'category': '病理性近视眼底彩照', 'score': 0.9999887}], [{'category_id': 0, 'category': '非病理性近视眼底彩照', 'score': 0.806693}], [{'category_id': 1, 'category': '病理性近视眼底彩照', 'score': 0.9693693}], [{'category_id': 0, 'category': '非病理性近视眼底彩照', 'score': 0.934401}], [{'category_id': 1, 'category': '病理性近视眼底彩照', 'score': 0.9999789}], [{'category_id': 0, 'category': '非病理性近视眼底彩照', 'score': 1.0}], [{'category_id': 1, 'category': '病理性近视眼底彩照', 'score': 0.99988127}], [{'category_id': 0, 'category': '非病理性近视眼底彩照', 'score': 0.991438}], [{'category_id': 0, 'category': '非病理性近视眼底彩照', 'score': 1.0}], [{'category_id': 1, 'category': '病理性近视眼底彩照', 'score': 0.9990773}], [{'category_id': 0, 'category': '非病理性近视眼底彩照', 'score': 1.0}], [{'category_id': 0, 'category': '非病理性近视眼底彩照', 'score': 0.9999418}], [{'category_id': 1, 'category': '病理性近视眼底彩照', 'score': 0.99995327}], [{'category_id': 1, 'category': '病理性近视眼底彩照', 'score': 1.0}], [{'category_id': 1, 'category': '病理性近视眼底彩照', 'score': 0.9999795}], [{'category_id': 1, 'category': '病理性近视眼底彩照', 'score': 0.9998958}], [{'category_id': 1, 'category': '病理性近视眼底彩照', 'score': 0.99856275}], [{'category_id': 0, 'category': '非病理性近视眼底彩照', 'score': 1.0}], [{'category_id': 0, 'category': '非病理性近视眼底彩照', 'score': 1.0}], [{'category_id': 1, 'category': '病理性近视眼底彩照', 'score': 0.99995553}], [{'category_id': 1, 'category': '病理性近视眼底彩照', 'score': 0.99842584}], [{'category_id': 1, 'category': '病理性近视眼底彩照', 'score': 0.9998784}], [{'category_id': 0, 'category': '非病理性近视眼底彩照', 'score': 1.0}], [{'category_id': 0, 'category': '非病理性近视眼底彩照', 'score': 1.0}], [{'category_id': 0, 'category': '非病理性近视眼底彩照', 'score': 0.999959}], [{'category_id': 0, 'category': '非病理性近视眼底彩照', 'score': 1.0}], [{'category_id': 0, 'category': '非病理性近视眼底彩照', 'score': 1.0}], [{'category_id': 1, 'category': '病理性近视眼底彩照', 'score': 0.99990463}], [{'category_id': 1, 'category': '病理性近视眼底彩照', 'score': 0.99999964}], [{'category_id': 0, 'category': '非病理性近视眼底彩照', 'score': 1.0}], [{'category_id': 0, 'category': '非病理性近视眼底彩照', 'score': 1.0}], [{'category_id': 1, 'category': '病理性近视眼底彩照', 'score': 0.99827564}], [{'category_id': 0, 'category': '非病理性近视眼底彩照', 'score': 1.0}], [{'category_id': 1, 'category': '病理性近视眼底彩照', 'score': 0.9805226}], [{'category_id': 1, 'category': '病理性近视眼底彩照', 'score': 0.99980754}], [{'category_id': 1, 'category': '病理性近视眼底彩照', 'score': 0.99998844}], [{'category_id': 1, 'category': '病理性近视眼底彩照', 'score': 0.99906045}], [{'category_id': 1, 'category': '病理性近视眼底彩照', 'score': 0.99992704}], [{'category_id': 1, 'category': '病理性近视眼底彩照', 'score': 0.99972266}], [{'category_id': 1, 'category': '病理性近视眼底彩照', 'score': 0.99997807}], [{'category_id': 0, 'category': '非病理性近视眼底彩照', 'score': 1.0}], [{'category_id': 1, 'category': '病理性近视眼底彩照', 'score': 0.9866775}], [{'category_id': 1, 'category': '病理性近视眼底彩照', 'score': 0.9999598}], [{'category_id': 1, 'category': '病理性近视眼底彩照', 'score': 0.99999833}], [{'category_id': 1, 'category': '病理性近视眼底彩照', 'score': 0.9598478}], [{'category_id': 0, 'category': '非病理性近视眼底彩照', 'score': 1.0}], [{'category_id': 0, 'category': '非病理性近视眼底彩照', 'score': 1.0}], [{'category_id': 0, 'category': '非病理性近视眼底彩照', 'score': 1.0}], [{'category_id': 0, 'category': '非病理性近视眼底彩照', 'score': 1.0}], [{'category_id': 1, 'category': '病理性近视眼底彩照', 'score': 1.0}], [{'category_id': 0, 'category': '非病理性近视眼底彩照', 'score': 0.999998}], [{'category_id': 1, 'category': '病理性近视眼底彩照', 'score': 0.9999939}], [{'category_id': 1, 'category': '病理性近视眼底彩照', 'score': 0.8864238}], [{'category_id': 0, 'category': '非病理性近视眼底彩照', 'score': 0.9999932}], [{'category_id': 0, 'category': '非病理性近视眼底彩照', 'score': 1.0}], [{'category_id': 1, 'category': '病理性近视眼底彩照', 'score': 0.9998398}], [{'category_id': 0, 'category': '非病理性近视眼底彩照', 'score': 0.97277665}], [{'category_id': 1, 'category': '病理性近视眼底彩照', 'score': 0.99997735}], [{'category_id': 0, 'category': '非病理性近视眼底彩照', 'score': 1.0}], [{'category_id': 1, 'category': '病理性近视眼底彩照', 'score': 0.9984297}], [{'category_id': 0, 'category': '非病理性近视眼底彩照', 'score': 1.0}], [{'category_id': 0, 'category': '非病理性近视眼底彩照', 'score': 1.0}], [{'category_id': 1, 'category': '病理性近视眼底彩照', 'score': 0.98481673}], [{'category_id': 0, 'category': '非病理性近视眼底彩照', 'score': 1.0}], [{'category_id': 1, 'category': '病理性近视眼底彩照', 'score': 0.9999962}], [{'category_id': 0, 'category': '非病理性近视眼底彩照', 'score': 1.0}], [{'category_id': 0, 'category': '非病理性近视眼底彩照', 'score': 1.0}], [{'category_id': 1, 'category': '病理性近视眼底彩照', 'score': 0.9905021}], [{'category_id': 1, 'category': '病理性近视眼底彩照', 'score': 0.99988055}], [{'category_id': 1, 'category': '病理性近视眼底彩照', 'score': 0.99963295}], [{'category_id': 1, 'category': '病理性近视眼底彩照', 'score': 0.9998585}], [{'category_id': 1, 'category': '病理性近视眼底彩照', 'score': 0.9449625}], [{'category_id': 1, 'category': '病理性近视眼底彩照', 'score': 0.9999987}], [{'category_id': 0, 'category': '非病理性近视眼底彩照', 'score': 1.0}], [{'category_id': 1, 'category': '病理性近视眼底彩照', 'score': 0.99883276}], [{'category_id': 0, 'category': '非病理性近视眼底彩照', 'score': 1.0}], [{'category_id': 0, 'category': '非病理性近视眼底彩照', 'score': 1.0}], [{'category_id': 0, 'category': '非病理性近视眼底彩照', 'score': 1.0}], [{'category_id': 0, 'category': '非病理性近视眼底彩照', 'score': 1.0}], [{'category_id': 1, 'category': '病理性近视眼底彩照', 'score': 0.9974361}], [{'category_id': 1, 'category': '病理性近视眼底彩照', 'score': 0.9857889}], [{'category_id': 0, 'category': '非病理性近视眼底彩照', 'score': 0.683113}], [{'category_id': 1, 'category': '病理性近视眼底彩照', 'score': 0.9999472}], [{'category_id': 1, 'category': '病理性近视眼底彩照', 'score': 0.9998975}], [{'category_id': 1, 'category': '病理性近视眼底彩照', 'score': 0.9999894}], [{'category_id': 0, 'category': '非病理性近视眼底彩照', 'score': 0.9999987}], [{'category_id': 0, 'category': '非病理性近视眼底彩照', 'score': 0.7091431}], [{'category_id': 0, 'category': '非病理性近视眼底彩照', 'score': 0.9892369}], [{'category_id': 1, 'category': '病理性近视眼底彩照', 'score': 0.9979346}], [{'category_id': 0, 'category': '非病理性近视眼底彩照', 'score': 1.0}], [{'category_id': 0, 'category': '非病理性近视眼底彩照', 'score': 0.9999999}], [{'category_id': 0, 'category': '非病理性近视眼底彩照', 'score': 0.9999988}], [{'category_id': 1, 'category': '病理性近视眼底彩照', 'score': 0.9997507}], [{'category_id': 1, 'category': '病理性近视眼底彩照', 'score': 0.9999443}], [{'category_id': 0, 'category': '非病理性近视眼底彩照', 'score': 0.99949336}], [{'category_id': 0, 'category': '非病理性近视眼底彩照', 'score': 0.9716939}], [{'category_id': 1, 'category': '病理性近视眼底彩照', 'score': 0.98841673}], [{'category_id': 1, 'category': '病理性近视眼底彩照', 'score': 0.8805758}], [{'category_id': 1, 'category': '病理性近视眼底彩照', 'score': 0.9069663}], [{'category_id': 1, 'category': '病理性近视眼底彩照', 'score': 0.99285007}], [{'category_id': 1, 'category': '病理性近视眼底彩照', 'score': 0.82911146}], [{'category_id': 1, 'category': '病理性近视眼底彩照', 'score': 0.9999924}], [{'category_id': 1, 'category': '病理性近视眼底彩照', 'score': 0.9999863}], [{'category_id': 1, 'category': '病理性近视眼底彩照', 'score': 0.9998252}], [{'category_id': 0, 'category': '非病理性近视眼底彩照', 'score': 0.9999522}], [{'category_id': 1, 'category': '病理性近视眼底彩照', 'score': 0.9999436}], [{'category_id': 0, 'category': '非病理性近视眼底彩照', 'score': 1.0}], [{'category_id': 1, 'category': '病理性近视眼底彩照', 'score': 0.9998646}], [{'category_id': 0, 'category': '非病理性近视眼底彩照', 'score': 1.0}], [{'category_id': 0, 'category': '非病理性近视眼底彩照', 'score': 0.9999999}], [{'category_id': 0, 'category': '非病理性近视眼底彩照', 'score': 0.9999484}], [{'category_id': 1, 'category': '病理性近视眼底彩照', 'score': 0.99992883}], [{'category_id': 1, 'category': '病理性近视眼底彩照', 'score': 0.99890006}], [{'category_id': 0, 'category': '非病理性近视眼底彩照', 'score': 0.9992612}], [{'category_id': 1, 'category': '病理性近视眼底彩照', 'score': 0.87788385}], [{'category_id': 0, 'category': '非病理性近视眼底彩照', 'score': 1.0}], [{'category_id': 0, 'category': '非病理性近视眼底彩照', 'score': 1.0}], [{'category_id': 1, 'category': '病理性近视眼底彩照', 'score': 0.9999634}], [{'category_id': 0, 'category': '非病理性近视眼底彩照', 'score': 1.0}], [{'category_id': 0, 'category': '非病理性近视眼底彩照', 'score': 0.9994311}], [{'category_id': 0, 'category': '非病理性近视眼底彩照', 'score': 1.0}], [{'category_id': 1, 'category': '病理性近视眼底彩照', 'score': 0.99999964}], [{'category_id': 1, 'category': '病理性近视眼底彩照', 'score': 0.99987304}], [{'category_id': 0, 'category': '非病理性近视眼底彩照', 'score': 1.0}], [{'category_id': 1, 'category': '病理性近视眼底彩照', 'score': 0.9999993}], [{'category_id': 1, 'category': '病理性近视眼底彩照', 'score': 0.9999126}], [{'category_id': 0, 'category': '非病理性近视眼底彩照', 'score': 1.0}], [{'category_id': 1, 'category': '病理性近视眼底彩照', 'score': 0.9999993}], [{'category_id': 0, 'category': '非病理性近视眼底彩照', 'score': 1.0}], [{'category_id': 1, 'category': '病理性近视眼底彩照', 'score': 0.99991214}], [{'category_id': 0, 'category': '非病理性近视眼底彩照', 'score': 1.0}], [{'category_id': 1, 'category': '病理性近视眼底彩照', 'score': 0.9998865}], [{'category_id': 1, 'category': '病理性近视眼底彩照', 'score': 0.99819833}], [{'category_id': 1, 'category': '病理性近视眼底彩照', 'score': 0.99643457}], [{'category_id': 1, 'category': '病理性近视眼底彩照', 'score': 0.99999547}], [{'category_id': 0, 'category': '非病理性近视眼底彩照', 'score': 1.0}], [{'category_id': 1, 'category': '病理性近视眼底彩照', 'score': 0.98077065}], [{'category_id': 1, 'category': '病理性近视眼底彩照', 'score': 0.9993631}], [{'category_id': 0, 'category': '非病理性近视眼底彩照', 'score': 0.99994385}], [{'category_id': 1, 'category': '病理性近视眼底彩照', 'score': 0.9964245}], [{'category_id': 1, 'category': '病理性近视眼底彩照', 'score': 0.9999243}], [{'category_id': 0, 'category': '非病理性近视眼底彩照', 'score': 1.0}], [{'category_id': 0, 'category': '非病理性近视眼底彩照', 'score': 1.0}], [{'category_id': 1, 'category': '病理性近视眼底彩照', 'score': 0.9998919}], [{'category_id': 0, 'category': '非病理性近视眼底彩照', 'score': 1.0}], [{'category_id': 0, 'category': '非病理性近视眼底彩照', 'score': 1.0}], [{'category_id': 0, 'category': '非病理性近视眼底彩照', 'score': 0.99996686}], [{'category_id': 0, 'category': '非病理性近视眼底彩照', 'score': 0.9999484}], [{'category_id': 0, 'category': '非病理性近视眼底彩照', 'score': 1.0}], [{'category_id': 1, 'category': '病理性近视眼底彩照', 'score': 0.9999815}], [{'category_id': 1, 'category': '病理性近视眼底彩照', 'score': 0.79267734}], [{'category_id': 0, 'category': '非病理性近视眼底彩照', 'score': 1.0}], [{'category_id': 0, 'category': '非病理性近视眼底彩照', 'score': 1.0}], [{'category_id': 0, 'category': '非病理性近视眼底彩照', 'score': 1.0}], [{'category_id': 0, 'category': '非病理性近视眼底彩照', 'score': 0.99999964}], [{'category_id': 0, 'category': '非病理性近视眼底彩照', 'score': 1.0}], [{'category_id': 0, 'category': '非病理性近视眼底彩照', 'score': 0.9985885}], [{'category_id': 0, 'category': '非病理性近视眼底彩照', 'score': 1.0}], [{'category_id': 1, 'category': '病理性近视眼底彩照', 'score': 0.73288167}], [{'category_id': 0, 'category': '非病理性近视眼底彩照', 'score': 1.0}], [{'category_id': 1, 'category': '病理性近视眼底彩照', 'score': 0.9999987}], [{'category_id': 1, 'category': '病理性近视眼底彩照', 'score': 0.99858034}], [{'category_id': 0, 'category': '非病理性近视眼底彩照', 'score': 1.0}], [{'category_id': 0, 'category': '非病理性近视眼底彩照', 'score': 1.0}], [{'category_id': 1, 'category': '病理性近视眼底彩照', 'score': 0.9999186}], [{'category_id': 0, 'category': '非病理性近视眼底彩照', 'score': 1.0}], [{'category_id': 0, 'category': '非病理性近视眼底彩照', 'score': 0.9999999}], [{'category_id': 1, 'category': '病理性近视眼底彩照', 'score': 0.99995303}], [{'category_id': 0, 'category': '非病理性近视眼底彩照', 'score': 0.9998801}], [{'category_id': 0, 'category': '非病理性近视眼底彩照', 'score': 0.95440716}], [{'category_id': 0, 'category': '非病理性近视眼底彩照', 'score': 1.0}], [{'category_id': 0, 'category': '非病理性近视眼底彩照', 'score': 0.9938513}], [{'category_id': 1, 'category': '病理性近视眼底彩照', 'score': 0.99877864}], [{'category_id': 1, 'category': '病理性近视眼底彩照', 'score': 0.9980276}], [{'category_id': 0, 'category': '非病理性近视眼底彩照', 'score': 0.99999356}], [{'category_id': 1, 'category': '病理性近视眼底彩照', 'score': 0.9967763}], [{'category_id': 1, 'category': '病理性近视眼底彩照', 'score': 0.99994814}], [{'category_id': 0, 'category': '非病理性近视眼底彩照', 'score': 0.9999857}], [{'category_id': 0, 'category': '非病理性近视眼底彩照', 'score': 0.9999833}], [{'category_id': 0, 'category': '非病理性近视眼底彩照', 'score': 0.999998}], [{'category_id': 1, 'category': '病理性近视眼底彩照', 'score': 0.99999535}], [{'category_id': 1, 'category': '病理性近视眼底彩照', 'score': 0.9999974}], [{'category_id': 1, 'category': '病理性近视眼底彩照', 'score': 0.9992169}], [{'category_id': 0, 'category': '非病理性近视眼底彩照', 'score': 1.0}], [{'category_id': 0, 'category': '非病理性近视眼底彩照', 'score': 0.9999993}], [{'category_id': 0, 'category': '非病理性近视眼底彩照', 'score': 1.0}], [{'category_id': 1, 'category': '病理性近视眼底彩照', 'score': 0.9990932}], [{'category_id': 1, 'category': '病理性近视眼底彩照', 'score': 0.99927336}], [{'category_id': 1, 'category': '病理性近视眼底彩照', 'score': 0.81061375}], [{'category_id': 0, 'category': '非病理性近视眼底彩照', 'score': 0.99992883}], [{'category_id': 1, 'category': '病理性近视眼底彩照', 'score': 0.9999993}], [{'category_id': 0, 'category': '非病理性近视眼底彩照', 'score': 1.0}], [{'category_id': 0, 'category': '非病理性近视眼底彩照', 'score': 1.0}], [{'category_id': 1, 'category': '病理性近视眼底彩照', 'score': 0.9841127}], [{'category_id': 0, 'category': '非病理性近视眼底彩照', 'score': 1.0}], [{'category_id': 0, 'category': '非病理性近视眼底彩照', 'score': 1.0}], [{'category_id': 0, 'category': '非病理性近视眼底彩照', 'score': 1.0}], [{'category_id': 1, 'category': '病理性近视眼底彩照', 'score': 0.7539046}], [{'category_id': 0, 'category': '非病理性近视眼底彩照', 'score': 0.9991788}], [{'category_id': 1, 'category': '病理性近视眼底彩照', 'score': 0.99939907}], [{'category_id': 0, 'category': '非病理性近视眼底彩照', 'score': 0.99999297}], [{'category_id': 1, 'category': '病理性近视眼底彩照', 'score': 0.9998609}], [{'category_id': 1, 'category': '病理性近视眼底彩照', 'score': 0.9999778}], [{'category_id': 1, 'category': '病理性近视眼底彩照', 'score': 0.999974}], [{'category_id': 0, 'category': '非病理性近视眼底彩照', 'score': 1.0}], [{'category_id': 1, 'category': '病理性近视眼底彩照', 'score': 0.9991622}], [{'category_id': 1, 'category': '病理性近视眼底彩照', 'score': 0.9999778}], [{'category_id': 1, 'category': '病理性近视眼底彩照', 'score': 0.9725814}], [{'category_id': 1, 'category': '病理性近视眼底彩照', 'score': 0.99898165}], [{'category_id': 0, 'category': '非病理性近视眼底彩照', 'score': 1.0}], [{'category_id': 1, 'category': '病理性近视眼底彩照', 'score': 0.67607415}], [{'category_id': 1, 'category': '病理性近视眼底彩照', 'score': 0.9999856}], [{'category_id': 1, 'category': '病理性近视眼底彩照', 'score': 0.9996278}], [{'category_id': 1, 'category': '病理性近视眼底彩照', 'score': 0.99997365}], [{'category_id': 1, 'category': '病理性近视眼底彩照', 'score': 0.9998018}], [{'category_id': 1, 'category': '病理性近视眼底彩照', 'score': 0.9972523}], [{'category_id': 0, 'category': '非病理性近视眼底彩照', 'score': 0.86376923}], [{'category_id': 1, 'category': '病理性近视眼底彩照', 'score': 0.99983954}], [{'category_id': 0, 'category': '非病理性近视眼底彩照', 'score': 1.0}], [{'category_id': 0, 'category': '非病理性近视眼底彩照', 'score': 1.0}], [{'category_id': 1, 'category': '病理性近视眼底彩照', 'score': 0.9999975}], [{'category_id': 1, 'category': '病理性近视眼底彩照', 'score': 0.9980317}], [{'category_id': 0, 'category': '非病理性近视眼底彩照', 'score': 1.0}], [{'category_id': 0, 'category': '非病理性近视眼底彩照', 'score': 0.99994826}], [{'category_id': 0, 'category': '非病理性近视眼底彩照', 'score': 1.0}], [{'category_id': 1, 'category': '病理性近视眼底彩照', 'score': 0.999997}], [{'category_id': 0, 'category': '非病理性近视眼底彩照', 'score': 1.0}], [{'category_id': 0, 'category': '非病理性近视眼底彩照', 'score': 0.99997747}], [{'category_id': 1, 'category': '病理性近视眼底彩照', 'score': 0.9969613}], [{'category_id': 1, 'category': '病理性近视眼底彩照', 'score': 0.99216205}], [{'category_id': 1, 'category': '病理性近视眼底彩照', 'score': 0.9993025}], [{'category_id': 1, 'category': '病理性近视眼底彩照', 'score': 0.9141524}], [{'category_id': 1, 'category': '病理性近视眼底彩照', 'score': 0.9997023}], [{'category_id': 1, 'category': '病理性近视眼底彩照', 'score': 0.99877197}], [{'category_id': 1, 'category': '病理性近视眼底彩照', 'score': 0.9966618}], [{'category_id': 1, 'category': '病理性近视眼底彩照', 'score': 0.99998486}], [{'category_id': 1, 'category': '病理性近视眼底彩照', 'score': 0.99999833}], [{'category_id': 0, 'category': '非病理性近视眼底彩照', 'score': 1.0}], [{'category_id': 0, 'category': '非病理性近视眼底彩照', 'score': 0.9999851}], [{'category_id': 1, 'category': '病理性近视眼底彩照', 'score': 0.9991035}], [{'category_id': 0, 'category': '非病理性近视眼底彩照', 'score': 0.81343055}], [{'category_id': 1, 'category': '病理性近视眼底彩照', 'score': 0.99871016}], [{'category_id': 0, 'category': '非病理性近视眼底彩照', 'score': 1.0}], [{'category_id': 0, 'category': '非病理性近视眼底彩照', 'score': 0.9999999}], [{'category_id': 1, 'category': '病理性近视眼底彩照', 'score': 0.5784925}], [{'category_id': 0, 'category': '非病理性近视眼底彩照', 'score': 1.0}], [{'category_id': 0, 'category': '非病理性近视眼底彩照', 'score': 1.0}], [{'category_id': 0, 'category': '非病理性近视眼底彩照', 'score': 0.99998224}], [{'category_id': 1, 'category': '病理性近视眼底彩照', 'score': 0.99997723}], [{'category_id': 1, 'category': '病理性近视眼底彩照', 'score': 0.9999993}], [{'category_id': 0, 'category': '非病理性近视眼底彩照', 'score': 1.0}], [{'category_id': 0, 'category': '非病理性近视眼底彩照', 'score': 0.9991788}], [{'category_id': 0, 'category': '非病理性近视眼底彩照', 'score': 1.0}], [{'category_id': 1, 'category': '病理性近视眼底彩照', 'score': 0.99999976}], [{'category_id': 1, 'category': '病理性近视眼底彩照', 'score': 0.9930218}], [{'category_id': 1, 'category': '病理性近视眼底彩照', 'score': 0.99997795}], [{'category_id': 1, 'category': '病理性近视眼底彩照', 'score': 0.95897543}], [{'category_id': 1, 'category': '病理性近视眼底彩照', 'score': 0.9991241}], [{'category_id': 1, 'category': '病理性近视眼底彩照', 'score': 0.99917656}], [{'category_id': 1, 'category': '病理性近视眼底彩照', 'score': 0.99999976}], [{'category_id': 0, 'category': '非病理性近视眼底彩照', 'score': 0.99999976}], [{'category_id': 1, 'category': '病理性近视眼底彩照', 'score': 0.99999833}]]\n"
     ]
    }
   ],
   "source": [
    "\r\n",
    "# 批量预测\r\n",
    "import numpy as np\r\n",
    "# model = pdx.load_model('output/ResNet50_vd_ssld/best_model')\r\n",
    "model = pdx.load_model('best_model')\r\n",
    "result = model.batch_predict(val_list)\r\n",
    "print(\"Predict Result:\", result)"
   ]
  },
  {
   "cell_type": "code",
   "execution_count": 20,
   "metadata": {
    "collapsed": false
   },
   "outputs": [],
   "source": [
    "# 结果列\r\n",
    "pd_B=[]\r\n",
    "for item in result:\r\n",
    "    # print(item)\r\n",
    "    if item[0]['category_id']==1:\r\n",
    "        pd_B.append(item[0]['score'])\r\n",
    "    else:\r\n",
    "        pd_B.append(1-item[0]['score'])"
   ]
  },
  {
   "cell_type": "code",
   "execution_count": 21,
   "metadata": {
    "collapsed": false
   },
   "outputs": [],
   "source": [
    "# 文件名列\r\n",
    "pd_A=[]\r\n",
    "with open('val_list.txt', 'r') as f:\r\n",
    "    for line in f:\r\n",
    "        pd_A.append(line.split('\\n')[0])\r\n",
    "        # print(line.split('\\n')[0])"
   ]
  },
  {
   "cell_type": "code",
   "execution_count": 22,
   "metadata": {
    "collapsed": false
   },
   "outputs": [],
   "source": [
    "# 构造pandas的DataFrame\r\n",
    "df= pd.DataFrame({'FileName': pd_A, 'PM Risk':pd_B})"
   ]
  },
  {
   "cell_type": "code",
   "execution_count": 23,
   "metadata": {
    "collapsed": false
   },
   "outputs": [],
   "source": [
    "# 保存为提交文件\r\n",
    "df.to_csv(\"Classification_ResultsMay.csv\", index=None)"
   ]
  }
 ],
 "metadata": {
  "kernelspec": {
   "display_name": "PaddlePaddle 2.0.0b0 (Python 3.5)",
   "language": "python",
   "name": "py35-paddle1.2.0"
  },
  "language_info": {
   "codemirror_mode": {
    "name": "ipython",
    "version": 3
   },
   "file_extension": ".py",
   "mimetype": "text/x-python",
   "name": "python",
   "nbconvert_exporter": "python",
   "pygments_lexer": "ipython3",
   "version": "3.7.4"
  }
 },
 "nbformat": 4,
 "nbformat_minor": 1
}
