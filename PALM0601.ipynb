{
 "cells": [
  {
   "cell_type": "markdown",
   "metadata": {
    "collapsed": false
   },
   "source": [
    "# 常规赛：PALM病理性近视预测\n",
    "\n",
    "[比赛链接](https://aistudio.baidu.com/aistudio/competition/detail/85)\n",
    "\n",
    "本方案是五月份第八名&截至六月三十第一名\n",
    "\n",
    "## 1.比赛介绍\n",
    "\n",
    "使用模型对上百张眼底照片进行分类，区分出其中正常和病变的眼球。\n",
    "\n",
    "## 2.数据特点\n",
    "\n",
    "随便打开几张训练集图片,发现数据集有这些特点：\n",
    "\n",
    ">图片的分辨率较高，`2124 x 2056`的分辨率是四百万像素\n",
    ">\n",
    ">这个大小的图片，远远比手写数字之类的图片大，但也不是极大的医学影像数据集，像于Kaggle上肾脏坏掉的那个比赛的数据集，单张图片3GB以上\n",
    ">\n",
    ">所以在Aistudio上运行时需要特别注意模型大小，图片resize大小，batch_size三者的关系，实测32G爆显存是很正常的事情\n",
    "\n",
    "\n",
    ">观察图片\n",
    "\n",
    "![](https://ai-studio-static-online.cdn.bcebos.com/1994cbd8fa9842ec9fd1501e44b7ac2d31508685e6a94d27986d1deb6dc2a166)\n",
    "\n",
    ">发现所有图片都是一个色调，黑乎乎的\n",
    ">\n",
    ">所有图片都差不多是个正方形\n",
    ">\n",
    ">图片中亮点都在左边，或上或下\n",
    "\n",
    "## 3.思路\n",
    "\n",
    "项目的思路，主要参考自：[PaddleX超简单之--【常规赛：PALM病理性近视预测】第二名方案](https://aistudio.baidu.com/aistudio/projectdetail/1889324?channelType=0&channel=0)\n",
    "\n",
    "\n",
    "\n",
    "实现步骤分别是：数据读取，数据预处理,模型加载训练，预测数据\n",
    "\n",
    "这里主要是数据预处理上使用了很多思路：\n",
    "\n",
    ">标注人员或者专业医生应该能在室内不同光环境下看出来哪张眼球有问题，所以预处理可以调整亮度和对比度\n",
    ">\n",
    ">标注人员或者专业医生或许隔着老远看照片就能分辨出来哪个有问题，所以预处理调整图片小\n",
    ">\n",
    ">标注人员或者专业医生应该侧着眼瞅，或者反着拿的情况下也能分辨病变与否，所以预处理多尝试几种随机的翻转和旋转变换\n",
    "\n",
    "## 4.实现\n",
    "\n",
    "### 4.1 安装必要的库\n",
    "```\n",
    "pip install paddlex -i https://mirror.baidu.com/pypi/simple\n",
    "pip install paddle2onnx -i https://mirror.baidu.com/pypi/simple"
   ]
  },
  {
   "cell_type": "markdown",
   "metadata": {
    "collapsed": false
   },
   "source": [
    "### 4.2划分训练集和验证集\n",
    "\n",
    "注意：这里发布的项目并不包含数据，建议读者搜索到PALM数据集，解压到`'dataset/Train/'`直接使用"
   ]
  },
  {
   "cell_type": "code",
   "execution_count": 2,
   "metadata": {
    "collapsed": false
   },
   "outputs": [],
   "source": [
    "import pandas as pd\n",
    "import random\n",
    "\n",
    "train_excel_file = 'dataset/Train/Classification.xlsx'\n",
    "pd_list=pd.read_excel(train_excel_file)\n",
    "\n",
    "pd_list_lenght=len(pd_list)\n",
    "# 乱序\n",
    "pd_list=pd_list.sample(frac=1)\n",
    "offset=int(pd_list_lenght*0.9)\n",
    "trian_list=pd_list[:offset]\n",
    "eval_list=pd_list[offset:]\n",
    "trian_list.to_csv(\"train_list.txt\", index=None, header=None, sep=' ')\n",
    "eval_list.to_csv(\"eval_list.txt\", index=None, header=None, sep=' ')"
   ]
  },
  {
   "cell_type": "code",
   "execution_count": 3,
   "metadata": {
    "collapsed": false
   },
   "outputs": [],
   "source": [
    "# 设置使用0号GPU卡（如无GPU，执行此代码后仍然会使用CPU训练模型）\n",
    "import matplotlib\n",
    "matplotlib.use('Agg') \n",
    "import os\n",
    "os.environ['CUDA_VISIBLE_DEVICES'] = '0'\n",
    "import paddlex as pdx"
   ]
  },
  {
   "cell_type": "markdown",
   "metadata": {
    "collapsed": false
   },
   "source": [
    "### 4.3 数据预处理"
   ]
  },
  {
   "cell_type": "markdown",
   "metadata": {
    "collapsed": false
   },
   "source": [
    "类似于sklearn.GridSearchCV的方法进行网格调参找水平翻转，垂直翻转，旋转角度的最优组合\n",
    "\n",
    "```\n",
    "{'transforms.RandomHorizontalFlip\":[0.4,0.5,0.6]}\n",
    "{'transforms.RandomVerticalFlip':[0.3,0.5,0.7]}\n",
    "{'transforms.RandomRotate':[rotate_range=30,45,60,75]}\n",
    "```\n",
    "\n",
    "各种尝试下的结果\n",
    "\n",
    "|crop_size|RandomHorizontalFlip|RandomRotate|RandomVerticalFlip|score|backbone|model_zoo\n",
    "|--|--|--|--|--|--|--|\n",
    "224|0.6|75|0.5|0.99643|ResNet50_vd_ssld|[点击查看](https://aistudio.baidu.com/aistudio/datasetdetail/93472/0)\n",
    "224|0.6|60|0.7|0.99636|ResNet50_vd_ssld|\n",
    "1440|0.6|45|0.2|0.9991|MobileNetV3_large_ssld|[点击查看](https://aistudio.baidu.com/aistudio/datasetdetail/95468)\n",
    "1440|0.6|45|0.2|不太行|ResNet50_vd_ssld|\n",
    "1440|0.2|45|0.2|0.983|MobileNetV3_large_ssld|"
   ]
  },
  {
   "cell_type": "code",
   "execution_count": 6,
   "metadata": {
    "collapsed": false
   },
   "outputs": [],
   "source": [
    "from paddlex.cls import transforms\n",
    "train_transforms = transforms.Compose([\n",
    "\n",
    "    transforms.RandomCrop(crop_size=1440),\n",
    "    transforms.RandomHorizontalFlip(0.9),\n",
    "    transforms.RandomRotate(rotate_range=45),\n",
    "\n",
    "    transforms.RandomVerticalFlip(0.2),\n",
    "    transforms.Normalize()\n",
    "])\n",
    "eval_transforms = transforms.Compose([\n",
    "    transforms.ResizeByShort(short_size=1440),\n",
    "    transforms.CenterCrop(crop_size=1440),\n",
    "    transforms.Normalize()\n",
    "])"
   ]
  },
  {
   "cell_type": "code",
   "execution_count": 5,
   "metadata": {
    "collapsed": false
   },
   "outputs": [],
   "source": [
    "from paddlex.cls import transforms\r\n",
    "train_transforms = transforms.Compose([\r\n",
    "\r\n",
    "    transforms.RandomCrop(crop_size=224),\r\n",
    "    transforms.RandomHorizontalFlip(0.6),\r\n",
    "    transforms.RandomRotate(rotate_range=75),\r\n",
    "\r\n",
    "    transforms.RandomVerticalFlip(0.6),\r\n",
    "    transforms.Normalize()\r\n",
    "])\r\n",
    "eval_transforms = transforms.Compose([\r\n",
    "    transforms.ResizeByShort(short_size=256),\r\n",
    "    transforms.CenterCrop(crop_size=224),\r\n",
    "    transforms.Normalize()\r\n",
    "])"
   ]
  },
  {
   "cell_type": "markdown",
   "metadata": {
    "collapsed": false
   },
   "source": [
    "### 4.4读取数据集"
   ]
  },
  {
   "cell_type": "code",
   "execution_count": 7,
   "metadata": {
    "collapsed": false
   },
   "outputs": [
    {
     "name": "stdout",
     "output_type": "stream",
     "text": [
      "2021-06-20 22:11:56 [INFO]\tStarting to read file list from dataset...\n",
      "2021-06-20 22:11:56 [INFO]\t720 samples in file train_list.txt\n",
      "2021-06-20 22:11:56 [INFO]\tStarting to read file list from dataset...\n",
      "2021-06-20 22:11:56 [INFO]\t80 samples in file eval_list.txt\n"
     ]
    }
   ],
   "source": [
    "train_dataset = pdx.datasets.ImageNet(\r\n",
    "    data_dir='dataset/Train/fundus_image',\r\n",
    "    file_list='train_list.txt',\r\n",
    "    label_list='labels.txt',\r\n",
    "    transforms=train_transforms,\r\n",
    "    shuffle=True)\r\n",
    "eval_dataset = pdx.datasets.ImageNet(\r\n",
    "    data_dir='dataset/Train/fundus_image',\r\n",
    "    file_list='eval_list.txt',\r\n",
    "    label_list='labels.txt',\r\n",
    "    transforms=eval_transforms)"
   ]
  },
  {
   "cell_type": "markdown",
   "metadata": {
    "collapsed": false
   },
   "source": [
    "### 4.5 开始训练"
   ]
  },
  {
   "cell_type": "code",
   "execution_count": 8,
   "metadata": {
    "collapsed": false
   },
   "outputs": [],
   "source": [
    "# model = pdx.cls.ResNet50_vd_ssld(num_classes=2)\r\n",
    "# model = pdx.cls.ResNet101_vd_ssld(num_classes=2)\r\n",
    "model = pdx.cls.MobileNetV3_large_ssld(num_classes=2)\r\n",
    "model.train(num_epochs=25,\r\n",
    "            train_dataset=train_dataset,\r\n",
    "            train_batch_size=8,\r\n",
    "            eval_dataset=eval_dataset,\r\n",
    "            lr_decay_epochs=[10, 15, 20],\r\n",
    "            save_interval_epochs=5,\r\n",
    "            learning_rate=0.03,\r\n",
    "            save_dir='output/ResNet50_vd_ssld7',\r\n",
    "            use_vdl=True)"
   ]
  },
  {
   "cell_type": "markdown",
   "metadata": {
    "collapsed": false
   },
   "source": [
    "这里选择了`use_vdl=True`后，会得到训练中参数的变化\n",
    "\n",
    "训练过程\n",
    "![](https://ai-studio-static-online.cdn.bcebos.com/0f35f0467a8b4586a26cacaeb29bc3aec54d9ba6b27b4c868c23355922e34d14)\n"
   ]
  },
  {
   "cell_type": "markdown",
   "metadata": {
    "collapsed": false
   },
   "source": [
    "### 4.6开始预测"
   ]
  },
  {
   "cell_type": "code",
   "execution_count": 9,
   "metadata": {
    "collapsed": false
   },
   "outputs": [],
   "source": [
    "# 预测数据集val_list\r\n",
    "val_list=[]\r\n",
    "for i in range(1,401,1):\r\n",
    "    filename='T'+ str(i).zfill(4)+'.jpg'\r\n",
    "    print(filename)\r\n",
    "    val_list.append(filename+'\\n')\r\n",
    "\r\n",
    "with open('val_list.txt','w') as f:\r\n",
    "    f.writelines(val_list)\r\n",
    "    \r\n",
    "val_list=[]\r\n",
    "with open('val_list.txt', 'r') as f:\r\n",
    "    for line in f:\r\n",
    "        line='dataset/PALM-Testing400-Images/'+line\r\n",
    "        val_list.append(line.split('\\n')[0])\r\n",
    "        # print(line.split('\\n')[0])\r\n",
    "# print(val_list)"
   ]
  },
  {
   "cell_type": "markdown",
   "metadata": {
    "collapsed": false
   },
   "source": [
    "这里注意使用了小模型+小图片，是可以使用`batch_predict`直接预测的,否则就一个一个预测"
   ]
  },
  {
   "cell_type": "code",
   "execution_count": null,
   "metadata": {
    "collapsed": false
   },
   "outputs": [],
   "source": [
    "\r\n",
    "# 批量预测\r\n",
    "import numpy as np\r\n",
    "model = pdx.load_model('output/ResNet50_vd_ssld7/best_model')\r\n",
    "# model = pdx.load_model('best_model')\r\n",
    "results = []\r\n",
    "for file in val_list:\r\n",
    "    result = model.predict(file,topk=2)\r\n",
    "    results.append(result)\r\n",
    "# result = model.batch_predict(val_list)\r\n",
    "    print(\"Predict Result:\", result)"
   ]
  },
  {
   "cell_type": "code",
   "execution_count": null,
   "metadata": {
    "collapsed": false
   },
   "outputs": [],
   "source": [
    "# 结果列\r\n",
    "pd_B=[]\r\n",
    "for item in results:\r\n",
    "    # print(item)\r\n",
    "    if item[0]['category_id']==1:\r\n",
    "        pd_B.append(item[0]['score'])\r\n",
    "    else:\r\n",
    "        pd_B.append(1-item[0]['score'])"
   ]
  },
  {
   "cell_type": "code",
   "execution_count": null,
   "metadata": {
    "collapsed": false
   },
   "outputs": [],
   "source": [
    "# 文件名列\r\n",
    "pd_A=[]\r\n",
    "with open('val_list.txt', 'r') as f:\r\n",
    "    for line in f:\r\n",
    "        pd_A.append(line.split('\\n')[0])\r\n",
    "        # print(line.split('\\n')[0])"
   ]
  },
  {
   "cell_type": "code",
   "execution_count": null,
   "metadata": {
    "collapsed": false
   },
   "outputs": [],
   "source": [
    "# 构造pandas的DataFrame\r\n",
    "import pandas as pd\r\n",
    "df= pd.DataFrame({'FileName': pd_A, 'PM Risk':pd_B})"
   ]
  },
  {
   "cell_type": "code",
   "execution_count": null,
   "metadata": {
    "collapsed": false
   },
   "outputs": [],
   "source": [
    "# 保存为提交文件\r\n",
    "df.to_csv(\"Classification_Results062101.csv\", index=None)"
   ]
  },
  {
   "cell_type": "markdown",
   "metadata": {
    "collapsed": false
   },
   "source": [
    "## 5.总结\n",
    "\n",
    ">这个比赛的上分点就在数据预处理和各种模型的尝试上；\n",
    ">\n",
    ">建议读者再加入别的图像变换以提高分数；\n",
    ">\n",
    ">或者使用大模型+大图片进行训练和预测，目前我尝试的效果并不是最好，可能是训练并不彻底；\n",
    ">\n",
    ">在最后预测的时候加入集成学习，例如融合Resnet系列和MobileNet的结果。"
   ]
  }
 ],
 "metadata": {
  "kernelspec": {
   "display_name": "PaddlePaddle 2.1.0 (Python 3.5)",
   "language": "python",
   "name": "py35-paddle1.2.0"
  },
  "language_info": {
   "codemirror_mode": {
    "name": "ipython",
    "version": 3
   },
   "file_extension": ".py",
   "mimetype": "text/x-python",
   "name": "python",
   "nbconvert_exporter": "python",
   "pygments_lexer": "ipython3",
   "version": "3.7.4"
  }
 },
 "nbformat": 4,
 "nbformat_minor": 1
}
